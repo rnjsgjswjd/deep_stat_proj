{
 "cells": [
  {
   "cell_type": "markdown",
   "metadata": {},
   "source": [
    "# See how sensitive the prediction at s[51] is on Y[50]"
   ]
  },
  {
   "cell_type": "code",
   "execution_count": 2,
   "metadata": {},
   "outputs": [
    {
     "name": "stderr",
     "output_type": "stream",
     "text": [
      "/Users/liy0h/anaconda/lib/python3.6/site-packages/h5py/__init__.py:34: FutureWarning: Conversion of the second argument of issubdtype from `float` to `np.floating` is deprecated. In future, it will be treated as `np.float64 == np.dtype(float).type`.\n",
      "  from ._conv import register_converters as _register_converters\n",
      "Using TensorFlow backend.\n"
     ]
    }
   ],
   "source": [
    "import numpy as np\n",
    "import scipy.stats as stats\n",
    "##Library neural nets\n",
    "from keras.models import Sequential\n",
    "from keras.layers import Dense, Dropout, BatchNormalization\n",
    "from keras.optimizers import Adam\n",
    "import time\n",
    "# Library for Gaussian process\n",
    "import GPy"
   ]
  },
  {
   "cell_type": "code",
   "execution_count": 3,
   "metadata": {},
   "outputs": [],
   "source": [
    "def create_mlp(feature_dim):\n",
    "    # create model\n",
    "    model = Sequential()\n",
    "    model.add(Dense(100, input_dim = feature_dim, kernel_initializer='normal', activation='relu'))\n",
    "    model.add(Dense(100, activation='relu'))\n",
    "    model.add(Dense(100, activation='relu'))\n",
    "    model.add(Dense(1, activation='linear'))\n",
    "    # Compile model\n",
    "    model.compile(loss='mse', optimizer='adam', metrics=['mse','mae'])\n",
    "    return model"
   ]
  },
  {
   "cell_type": "code",
   "execution_count": 4,
   "metadata": {},
   "outputs": [],
   "source": [
    "def calculate_phi(N):\n",
    "    num_basis = [10,19,37,73]\n",
    "    knots = [np.linspace(0,1,i) for i in num_basis]\n",
    "    ##Wendland kernel\n",
    "    K = 0 ## basis size\n",
    "    phi = np.zeros((N, sum(num_basis)))\n",
    "    for res in range(len(num_basis)):\n",
    "        theta = 1/num_basis[res]*2.5\n",
    "        for i in range(num_basis[res]):\n",
    "            d = np.absolute(s-knots[res][i])/theta\n",
    "            for j in range(len(d)):\n",
    "                if d[j] >= 0 and d[j] <= 1:\n",
    "                    phi[j,i + K] = (1-d[j])**6 * (35 * d[j]**2 + 18 * d[j] + 3)/3\n",
    "                else:\n",
    "                    phi[j,i + K] = 0\n",
    "        K = K + num_basis[res]\n",
    "    return phi"
   ]
  },
  {
   "cell_type": "code",
   "execution_count": null,
   "metadata": {},
   "outputs": [
    {
     "name": "stdout",
     "output_type": "stream",
     "text": [
      "DeepKriging training time when N=100:[3.698477 0.       0.       0.       0.       0.       0.       0.      ]\n",
      "Kriging training time when N=100:[0.178112 0.       0.       0.       0.       0.       0.       0.      ]\n",
      "DeepKriging training time when N=200:[3.698477 5.460127 0.       0.       0.       0.       0.       0.      ]\n",
      "Kriging training time when N=200:[0.178112 0.375426 0.       0.       0.       0.       0.       0.      ]\n",
      "DeepKriging training time when N=400:[3.698477 5.460127 9.227419 0.       0.       0.       0.       0.      ]\n",
      "Kriging training time when N=400:[0.178112 0.375426 1.139838 0.       0.       0.       0.       0.      ]\n",
      "DeepKriging training time when N=800:[ 3.698477  5.460127  9.227419 19.393113  0.        0.        0.\n",
      "  0.      ]\n",
      "Kriging training time when N=800:[0.178112 0.375426 1.139838 7.456006 0.       0.       0.       0.      ]\n",
      "DeepKriging training time when N=1600:[ 3.698477  5.460127  9.227419 19.393113 33.324421  0.        0.\n",
      "  0.      ]\n",
      "Kriging training time when N=1600:[ 0.178112  0.375426  1.139838  7.456006 46.036686  0.        0.\n",
      "  0.      ]\n",
      "DeepKriging training time when N=3200:[ 3.698477  5.460127  9.227419 19.393113 33.324421 65.716591  0.\n",
      "  0.      ]\n",
      "Kriging training time when N=3200:[  0.178112   0.375426   1.139838   7.456006  46.036686 151.993857\n",
      "   0.         0.      ]\n",
      "DeepKriging training time when N=6400:[  3.698477   5.460127   9.227419  19.393113  33.324421  65.716591\n",
      " 130.754029   0.      ]\n",
      "Kriging training time when N=6400:[1.78112000e-01 3.75426000e-01 1.13983800e+00 7.45600600e+00\n",
      " 4.60366860e+01 1.51993857e+02 8.67024742e+02 0.00000000e+00]\n"
     ]
    }
   ],
   "source": [
    "time_elapsed = np.zeros(8)\n",
    "time_elapsed2 = np.zeros(8)\n",
    "for i in range(8):\n",
    "    # Generate a dataset\n",
    "    N = 100*(2**i)\n",
    "    s = np.linspace(0,1,N).reshape(-1,1)\n",
    "    Y = 10 * np.cos(20 * s)\n",
    "    Y[Y<0] = 0\n",
    "    K=10+19+37+73\n",
    "    np.random.seed(1)\n",
    "    Z = np.random.normal(Y,1, size=(N,1))\n",
    "    model = create_mlp(feature_dim = K)\n",
    "    phi = calculate_phi(N)\n",
    "    time_start = time.clock()\n",
    "    model.fit(phi,Z, validation_split = 0, epochs = 200, batch_size = 32, verbose = 0)\n",
    "    time_elapsed[i] = (time.clock() - time_start)\n",
    "    kernel = GPy.kern.Exponential(1,1,0.1) ##Covariance Function\n",
    "    m = GPy.models.GPRegression(s, Z, kernel)\n",
    "    time_start_2 = time.clock()\n",
    "    m.optimize(max_iters=200)\n",
    "    time_elapsed2[i] = (time.clock() - time_start_2)\n",
    "    print(f\"DeepKriging training time when N={N}:{time_elapsed}\")\n",
    "    print(f\"Kriging training time when N={N}:{time_elapsed2}\")"
   ]
  },
  {
   "cell_type": "code",
   "execution_count": 30,
   "metadata": {},
   "outputs": [],
   "source": [
    "time_DK_gpu = np.array([ 2.281631,  2.825783,  4.611376,  7.580814, 12.966882, 23.318432,\n",
    "       48.726707, 94.000705])\n",
    "time_DK_cpu = np.array([3.698477,   5.460127,  9.227419,  19.393113,  33.324421,  65.716591,\n",
    " 130.754029,   214.286753])\n",
    "time_UK = np.array([1.78112000e-01, 3.75426000e-01, 1.13983800, 7.45600600,\n",
    " 46.0366860, 151.993857, 867.024742, 5663.8260709999995])"
   ]
  },
  {
   "cell_type": "code",
   "execution_count": 9,
   "metadata": {},
   "outputs": [],
   "source": [
    "##Library for visualization\n",
    "import matplotlib.pyplot as plt\n",
    "%matplotlib inline\n",
    "import matplotlib;matplotlib.rcParams['figure.figsize'] = (8,6)\n",
    "import pylab "
   ]
  },
  {
   "cell_type": "code",
   "execution_count": 32,
   "metadata": {
    "scrolled": true
   },
   "outputs": [
    {
     "data": {
      "image/png": "[encoded data removed]",
      "text/plain": [
       "<matplotlib.figure.Figure at 0x1343cce48>"
      ]
     },
     "metadata": {},
     "output_type": "display_data"
    }
   ],
   "source": [
    "N = 100 * 2**np.arange(0, 8)\n",
    "pylab.plot(N, time_DK_gpu,\"x-\",label=\"DeepKriging_GPU\")\n",
    "pylab.plot(N, time_DK_cpu,\"x-\",label=\"DeepKriging_CPU\")\n",
    "pylab.plot(N, time_UK,\"x-\",label=\"Kriging\")\n",
    "pylab.legend(loc='upper left')\n",
    "pylab.yscale(\"log\")\n",
    "pylab.xlabel(\"N\")\n",
    "pylab.ylabel(\"seconds (log scale)\")\n",
    "#pylab.show()\n",
    "plt.savefig(\"runtime.pdf\")"
   ]
  },
  {
   "cell_type": "code",
   "execution_count": 18,
   "metadata": {},
   "outputs": [
    {
     "data": {
      "text/plain": [
       "array([  100,   200,   400,   800,  1600,  3200,  6400, 12800])"
      ]
     },
     "execution_count": 18,
     "metadata": {},
     "output_type": "execute_result"
    }
   ],
   "source": [
    "N"
   ]
  },
  {
   "cell_type": "code",
   "execution_count": null,
   "metadata": {},
   "outputs": [],
   "source": []
  }
 ],
 "metadata": {
  "kernelspec": {
   "display_name": "Python 3",
   "language": "python",
   "name": "python3"
  },
  "language_info": {
   "codemirror_mode": {
    "name": "ipython",
    "version": 3
   },
   "file_extension": ".py",
   "mimetype": "text/x-python",
   "name": "python",
   "nbconvert_exporter": "python",
   "pygments_lexer": "ipython3",
   "version": "3.6.1"
  }
 },
 "nbformat": 4,
 "nbformat_minor": 2
}
