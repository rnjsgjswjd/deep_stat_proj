{
 "cells": [
  {
   "cell_type": "markdown",
   "metadata": {},
   "source": [
    "# 라이브러리 로드"
   ]
  },
  {
   "cell_type": "code",
   "execution_count": 2,
   "metadata": {},
   "outputs": [],
   "source": [
    "# 기본 \n",
    "import pandas as pd\n",
    "import numpy as np\n",
    "\n",
    "# 시각화\n",
    "import matplotlib.pyplot as plt\n",
    "\n",
    "# 딥러닝\n",
    "from keras.models import Sequential\n",
    "from keras.layers import Dense, Dropout, BatchNormalization\n",
    "# from keras.wrappers.scikit_learn import KerasRegressor\n",
    "from sklearn.model_selection import cross_val_score\n",
    "from sklearn.model_selection import KFold\n",
    "from sklearn.model_selection import train_test_split\n",
    "from sklearn.preprocessing import StandardScaler\n",
    "from sklearn.pipeline import Pipeline\n",
    "\n",
    "\n",
    "# 코드 실행 속도 측정\n",
    "import time # time 라이브러리 import"
   ]
  },
  {
   "cell_type": "markdown",
   "metadata": {},
   "source": [
    "# 데이터 로드 및 확인"
   ]
  },
  {
   "cell_type": "code",
   "execution_count": 3,
   "metadata": {},
   "outputs": [],
   "source": [
    "## Read PM2.5 data at June 05, 2019\n",
    "df1 = pd.read_csv('.\\covariate0605.csv')\n",
    "df2 = pd.read_csv('.\\pm25_0605.csv')"
   ]
  },
  {
   "cell_type": "markdown",
   "metadata": {},
   "source": [
    "## 변수설명: meteorological variables(기상학 변수)\n",
    "총 7,706개의 그리드(32x32 km)에서 측정된 자료(2019년 6월 5일) from NARR\n",
    " - `long`: 경도\n",
    " - `lat`: 위도\n",
    " - `prec`: 누적 총 강수량\n",
    " - `temp`: 기온\n",
    " - `pres`: surface pressure, 기압?\n",
    " - `rh`:  relative humidity at 2 m\n",
    " - `uwind`: u-component of wind\n",
    " - `vwind`: v-component of wind at 10 m\n",
    " "
   ]
  },
  {
   "cell_type": "code",
   "execution_count": 4,
   "metadata": {},
   "outputs": [
    {
     "data": {
      "text/html": [
       "<div>\n",
       "<style scoped>\n",
       "    .dataframe tbody tr th:only-of-type {\n",
       "        vertical-align: middle;\n",
       "    }\n",
       "\n",
       "    .dataframe tbody tr th {\n",
       "        vertical-align: top;\n",
       "    }\n",
       "\n",
       "    .dataframe thead th {\n",
       "        text-align: right;\n",
       "    }\n",
       "</style>\n",
       "<table border=\"1\" class=\"dataframe\">\n",
       "  <thead>\n",
       "    <tr style=\"text-align: right;\">\n",
       "      <th></th>\n",
       "      <th>Unnamed: 0</th>\n",
       "      <th>long</th>\n",
       "      <th>lat</th>\n",
       "      <th>prec</th>\n",
       "      <th>temp</th>\n",
       "      <th>pres</th>\n",
       "      <th>rh</th>\n",
       "      <th>uwind</th>\n",
       "      <th>vwind</th>\n",
       "    </tr>\n",
       "  </thead>\n",
       "  <tbody>\n",
       "    <tr>\n",
       "      <th>0</th>\n",
       "      <td>41242</td>\n",
       "      <td>-69.111491</td>\n",
       "      <td>47.386418</td>\n",
       "      <td>0.283942</td>\n",
       "      <td>278.605652</td>\n",
       "      <td>96929.570312</td>\n",
       "      <td>79.589600</td>\n",
       "      <td>4.852976</td>\n",
       "      <td>1.651037</td>\n",
       "    </tr>\n",
       "    <tr>\n",
       "      <th>1</th>\n",
       "      <td>41243</td>\n",
       "      <td>-68.736976</td>\n",
       "      <td>47.244262</td>\n",
       "      <td>0.276129</td>\n",
       "      <td>278.605652</td>\n",
       "      <td>97242.070312</td>\n",
       "      <td>79.589600</td>\n",
       "      <td>4.470163</td>\n",
       "      <td>1.646155</td>\n",
       "    </tr>\n",
       "    <tr>\n",
       "      <th>2</th>\n",
       "      <td>41244</td>\n",
       "      <td>-68.364554</td>\n",
       "      <td>47.100850</td>\n",
       "      <td>0.276129</td>\n",
       "      <td>279.753113</td>\n",
       "      <td>98692.070312</td>\n",
       "      <td>75.652100</td>\n",
       "      <td>4.477976</td>\n",
       "      <td>1.624670</td>\n",
       "    </tr>\n",
       "    <tr>\n",
       "      <th>3</th>\n",
       "      <td>41245</td>\n",
       "      <td>-67.994227</td>\n",
       "      <td>46.956192</td>\n",
       "      <td>0.604254</td>\n",
       "      <td>280.398621</td>\n",
       "      <td>98792.070312</td>\n",
       "      <td>77.417725</td>\n",
       "      <td>4.096140</td>\n",
       "      <td>1.615881</td>\n",
       "    </tr>\n",
       "    <tr>\n",
       "      <th>4</th>\n",
       "      <td>41589</td>\n",
       "      <td>-69.318835</td>\n",
       "      <td>47.131182</td>\n",
       "      <td>0.174567</td>\n",
       "      <td>278.424988</td>\n",
       "      <td>96567.070312</td>\n",
       "      <td>77.456787</td>\n",
       "      <td>5.140085</td>\n",
       "      <td>1.481116</td>\n",
       "    </tr>\n",
       "  </tbody>\n",
       "</table>\n",
       "</div>"
      ],
      "text/plain": [
       "   Unnamed: 0       long        lat      prec        temp          pres  \\\n",
       "0       41242 -69.111491  47.386418  0.283942  278.605652  96929.570312   \n",
       "1       41243 -68.736976  47.244262  0.276129  278.605652  97242.070312   \n",
       "2       41244 -68.364554  47.100850  0.276129  279.753113  98692.070312   \n",
       "3       41245 -67.994227  46.956192  0.604254  280.398621  98792.070312   \n",
       "4       41589 -69.318835  47.131182  0.174567  278.424988  96567.070312   \n",
       "\n",
       "          rh     uwind     vwind  \n",
       "0  79.589600  4.852976  1.651037  \n",
       "1  79.589600  4.470163  1.646155  \n",
       "2  75.652100  4.477976  1.624670  \n",
       "3  77.417725  4.096140  1.615881  \n",
       "4  77.456787  5.140085  1.481116  "
      ]
     },
     "execution_count": 4,
     "metadata": {},
     "output_type": "execute_result"
    }
   ],
   "source": [
    "df1.head(5)"
   ]
  },
  {
   "cell_type": "markdown",
   "metadata": {},
   "source": [
    "## 변수설명: $PM_{2.5}$\n",
    "총 841개의 관측소에서 관측된 자료\n",
    " - PM25: 일평균(2019년 6월 5일) 미세먼지 $PM_{2.5}$관측 자료\n",
    " - PM_class: "
   ]
  },
  {
   "cell_type": "code",
   "execution_count": 5,
   "metadata": {},
   "outputs": [
    {
     "data": {
      "text/html": [
       "<div>\n",
       "<style scoped>\n",
       "    .dataframe tbody tr th:only-of-type {\n",
       "        vertical-align: middle;\n",
       "    }\n",
       "\n",
       "    .dataframe tbody tr th {\n",
       "        vertical-align: top;\n",
       "    }\n",
       "\n",
       "    .dataframe thead th {\n",
       "        text-align: right;\n",
       "    }\n",
       "</style>\n",
       "<table border=\"1\" class=\"dataframe\">\n",
       "  <thead>\n",
       "    <tr style=\"text-align: right;\">\n",
       "      <th></th>\n",
       "      <th>Unnamed: 0</th>\n",
       "      <th>Longitude</th>\n",
       "      <th>Latitude</th>\n",
       "      <th>PM25</th>\n",
       "      <th>PM_class</th>\n",
       "    </tr>\n",
       "  </thead>\n",
       "  <tbody>\n",
       "    <tr>\n",
       "      <th>0</th>\n",
       "      <td>1</td>\n",
       "      <td>-80.482778</td>\n",
       "      <td>25.471944</td>\n",
       "      <td>4.400000</td>\n",
       "      <td>1</td>\n",
       "    </tr>\n",
       "    <tr>\n",
       "      <th>1</th>\n",
       "      <td>2</td>\n",
       "      <td>-80.215556</td>\n",
       "      <td>25.794222</td>\n",
       "      <td>4.929167</td>\n",
       "      <td>1</td>\n",
       "    </tr>\n",
       "    <tr>\n",
       "      <th>2</th>\n",
       "      <td>3</td>\n",
       "      <td>-97.493830</td>\n",
       "      <td>25.892518</td>\n",
       "      <td>8.213636</td>\n",
       "      <td>1</td>\n",
       "    </tr>\n",
       "    <tr>\n",
       "      <th>3</th>\n",
       "      <td>4</td>\n",
       "      <td>-80.326389</td>\n",
       "      <td>25.941944</td>\n",
       "      <td>4.100000</td>\n",
       "      <td>1</td>\n",
       "    </tr>\n",
       "    <tr>\n",
       "      <th>4</th>\n",
       "      <td>5</td>\n",
       "      <td>-80.256944</td>\n",
       "      <td>26.053889</td>\n",
       "      <td>4.992754</td>\n",
       "      <td>1</td>\n",
       "    </tr>\n",
       "  </tbody>\n",
       "</table>\n",
       "</div>"
      ],
      "text/plain": [
       "   Unnamed: 0  Longitude   Latitude      PM25  PM_class\n",
       "0           1 -80.482778  25.471944  4.400000         1\n",
       "1           2 -80.215556  25.794222  4.929167         1\n",
       "2           3 -97.493830  25.892518  8.213636         1\n",
       "3           4 -80.326389  25.941944  4.100000         1\n",
       "4           5 -80.256944  26.053889  4.992754         1"
      ]
     },
     "execution_count": 5,
     "metadata": {},
     "output_type": "execute_result"
    }
   ],
   "source": [
    "df2.head(5)"
   ]
  },
  {
   "cell_type": "code",
   "execution_count": 6,
   "metadata": {},
   "outputs": [
    {
     "data": {
      "text/plain": [
       "(7706, 6)"
      ]
     },
     "execution_count": 6,
     "metadata": {},
     "output_type": "execute_result"
    }
   ],
   "source": [
    "#  기상학 자료의 위경도를 제외한 공변량만 추출\n",
    "covariates = df1.values[:, 3:]\n",
    "covariates.shape"
   ]
  },
  {
   "cell_type": "code",
   "execution_count": 7,
   "metadata": {},
   "outputs": [
    {
     "data": {
      "text/plain": [
       "(842, 2)"
      ]
     },
     "execution_count": 7,
     "metadata": {},
     "output_type": "execute_result"
    }
   ],
   "source": [
    "# PM2.5 자료의 위경도만 추출\n",
    "aqs_lonlat=df2.values[:,[1,2]]\n",
    "aqs_lonlat.shape"
   ]
  },
  {
   "cell_type": "markdown",
   "metadata": {},
   "source": [
    "## 데이터 위치 시각화"
   ]
  },
  {
   "cell_type": "code",
   "execution_count": 8,
   "metadata": {},
   "outputs": [
    {
     "data": {
      "image/png": "[encoded data removed]",
      "text/plain": [
       "<Figure size 864x576 with 1 Axes>"
      ]
     },
     "metadata": {
      "needs_background": "light"
     },
     "output_type": "display_data"
    }
   ],
   "source": [
    "# PM2.5 data와 meteorogical data를 지도위에 동시에 표시\n",
    "\n",
    "# 그림 크기 설정 (가로 12인치, 세로 8인치)\n",
    "plt.figure(figsize=(12, 8))\n",
    "\n",
    "plt.scatter(aqs_lonlat[:,0], aqs_lonlat[:,1], c='r', s=10) # PM2.5 data\n",
    "plt.scatter(df1.values[:,1], df1.values[:,2], c='b', s=3) # meteorogical data\n",
    "plt.show()"
   ]
  },
  {
   "cell_type": "code",
   "execution_count": 9,
   "metadata": {},
   "outputs": [
    {
     "data": {
      "image/png": "[encoded data removed]",
      "text/plain": [
       "<Figure size 432x288 with 1 Axes>"
      ]
     },
     "metadata": {
      "needs_background": "light"
     },
     "output_type": "display_data"
    }
   ],
   "source": [
    "# \"시카고\"의 PM2.5 data와 meteorogical data를 지도위에 동시에 표시\n",
    "\n",
    "## PM2.5 data에서 시카고 지역의 데이터만 추출\n",
    "chicago_pm25 = df2[(df2['Latitude'] > 41.6) & (df2['Latitude'] < 42.1) & (df2['Longitude'] > -89.5) & (df2['Longitude'] < -86.5)]\n",
    "chicago_pm25 = chicago_pm25.values[:,[1,2]]\n",
    "\n",
    "## 기상학 data에서 시카고 지역의 데이터만 추출\n",
    "chicago_met = df1[(df1['lat'] > 41.6) & (df1['lat'] < 42.1) & (df1['long'] > -89.5) & (df1['long'] < -86.5)]\n",
    "chicago_met = chicago_met.values[:,[1,2]]\n",
    "\n",
    "## PM2.5 data와 기상학 data를 지도위에 동시에 표시\n",
    "plt.scatter(chicago_pm25[:,0], chicago_pm25[:,1], c='r', s=10) # PM2.5 data\n",
    "plt.scatter(chicago_met[:,0], chicago_met[:,1], c='b', s=10) # meteorogical data\n",
    "plt.show()\n"
   ]
  },
  {
   "cell_type": "markdown",
   "metadata": {},
   "source": [
    "# 데이터 병합"
   ]
  },
  {
   "cell_type": "markdown",
   "metadata": {},
   "source": [
    "## Pair the long and lat based on the nearest neighbor\n",
    " Since the coordinates from NARR and those from stations are not identical and some of stations are too close to each other, we keep the spatial resolution of NARR and average the PM25 measurements of nearby monitoring stations in the same grid cell.\n",
    "\n",
    " After the matching, 604 grid cells remain for the model training.\n",
    "\n",
    "> 자료의 매칭을 하고 나면 남는 7,706-604=7,102개의 위치(기상학 자료의 해상도를 유지)에서 $PM_{2.5}$ 값의 예측이 이번 Application의 목표입니다.\n",
    "\n",
    "자료의 매칭방법은 1-NN방법 입니다. "
   ]
  },
  {
   "cell_type": "code",
   "execution_count": 10,
   "metadata": {},
   "outputs": [
    {
     "data": {
      "text/plain": [
       "array([[-69.11149122,  47.38641834],\n",
       "       [-68.73697557,  47.24426247],\n",
       "       [-68.36455383,  47.10084972],\n",
       "       ...,\n",
       "       [-98.12177313,  26.12568696],\n",
       "       [-97.82368098,  26.09304595],\n",
       "       [-97.52588153,  26.05934002]])"
      ]
     },
     "execution_count": 10,
     "metadata": {},
     "output_type": "execute_result"
    }
   ],
   "source": [
    "from scipy import spatial\n",
    "\n",
    "# 기상학 data에서 좌표정보 추출\n",
    "near = df1.values[:,[1,2]] \n",
    "\n",
    "tree = spatial.KDTree(list(zip(near[:,0].ravel(), near[:,1].ravel())))\n",
    "    # ravel() : 다차원 배열을 1차원으로 변경\n",
    "    # zip() : 두개의 리스트를 하나의 튜플로 만들어줌\n",
    "    ## ex) zip([1,2,3],[4,5,6]) => [(1,4),(2,5),(3,6)]\n",
    "    # list() : 튜플을 리스트로 변경\n",
    "    # spatial.KDTree() : KDTree 생성, 이는 다차원에서 NN을 수행해주는 함수\n",
    "\n",
    "tree.data # KDTree의 데이터: 즉 생성된 KDTree의 좌표정보"
   ]
  },
  {
   "cell_type": "code",
   "execution_count": 11,
   "metadata": {},
   "outputs": [],
   "source": [
    "idx = tree.query(aqs_lonlat)[1] \n",
    "    # KD 트리에서 aqs_lonlat(미세먼지 관측소)과 가장 가까운 기상학 데이터를 찾습니다.\n",
    "    # tree.query(aqs_lonlat)[1]은 최근접 이웃의 \"인덱스\"를 반환합니다.\n",
    "    # tree.query(aqs_lonlat)[0]은 최근접 이웃과의 \"거리\"를 반환합니다.\n",
    "    # 즉, 가장 가까운 기상학 데이터의 인덱스를 반환합니다."
   ]
  },
  {
   "cell_type": "code",
   "execution_count": 12,
   "metadata": {},
   "outputs": [
    {
     "data": {
      "text/plain": [
       "(605,)"
      ]
     },
     "execution_count": 12,
     "metadata": {},
     "output_type": "execute_result"
    }
   ],
   "source": [
    "# 좀 더 살펴보기\n",
    "unique_indices = np.unique(tree.query(aqs_lonlat)[1])\n",
    "unique_indices.shape\n",
    "    # 특정 PM2.5 관측소들이 모여있어 가장 가까운 기상 데이터 좌표가 중복될 수 있습니다.\n",
    "    # 밑의 그림을 통해 더 자세히 살펴볼 수 있음."
   ]
  },
  {
   "cell_type": "code",
   "execution_count": 13,
   "metadata": {},
   "outputs": [
    {
     "data": {
      "text/plain": [
       "(368,)"
      ]
     },
     "execution_count": 13,
     "metadata": {},
     "output_type": "execute_result"
    }
   ],
   "source": [
    "# idx에서 중복이 발생한 인덱스 저장\n",
    "duplicated_idx = []\n",
    "\n",
    "for i in idx:\n",
    "    if np.sum(idx == i) > 1:\n",
    "        duplicated_idx.append(i)\n",
    "\n",
    "duplicated_idx = np.array(duplicated_idx)\n",
    "duplicated_idx.shape\n"
   ]
  },
  {
   "cell_type": "code",
   "execution_count": 14,
   "metadata": {},
   "outputs": [
    {
     "data": {
      "text/plain": [
       "array([7549, 7549, 7512, 7512, 7512, 7512, 6798, 6798, 7503, 7503, 7459,\n",
       "       7298, 7459, 7298, 6468, 6468, 7224, 7224, 7177, 7177, 5794, 5794,\n",
       "       7003, 7003, 6551, 6551, 6012, 6012, 6012, 6012, 5786, 6696, 5786,\n",
       "       5323, 6696, 5786, 6580, 5323, 6580, 6596, 6595, 6596, 6596, 6595,\n",
       "       6595, 6595, 6485, 6485, 6363, 6363, 5429, 6139, 5429, 6139, 6252,\n",
       "       6139, 6139, 6252, 6141, 6141, 6139, 5429, 6139, 6141, 6141, 6139,\n",
       "       6026, 6026, 5063, 5063, 5561, 5561, 5063, 5948, 5948, 5412, 5413,\n",
       "       5413, 5948, 5948, 5412, 4452, 4452, 5565, 5565, 5565, 5627, 5627,\n",
       "       4568, 4067, 4568, 4442, 4442, 4442, 4442, 4067, 5460, 5459, 5459,\n",
       "       5460, 5340, 5159, 5340, 5159, 5159, 4836, 4836, 4842, 4842, 3165,\n",
       "       4714, 3165, 4590, 4842, 4714, 4590, 4590, 3031, 4781, 3031, 4336,\n",
       "       4781, 4336, 4335, 4335, 4335, 4208, 4209, 4208, 4208, 3916, 3916,\n",
       "       4209, 3789, 3660, 3660, 3660, 3660, 3149, 3149, 3789, 3660, 3276,\n",
       "       3276, 3908, 3953, 3953, 3954, 3908, 3908, 3908, 3908, 3954, 3908,\n",
       "       4156, 2518, 2518, 4156, 2390, 3780, 2390, 2390, 2390, 3780, 2390,\n",
       "       4026, 2140, 4026, 2262, 4026, 3140, 4026, 3141, 2262, 3828, 3140,\n",
       "       2140, 3141, 3141, 2138, 2015, 3140, 3828, 2259, 2138, 3010, 3010,\n",
       "       3010, 3700, 4128, 3700, 2015, 2259, 1891, 4128, 3700, 1891, 1891,\n",
       "       3998, 3998, 1891, 3998, 3006, 3006, 3998, 3998, 3006, 1773, 3006,\n",
       "       1773, 3998, 1891, 1773, 1773, 3006, 1773, 1773, 3006, 1773, 1654,\n",
       "       1654, 2630, 2878, 1770, 3130, 1654, 2630, 2630, 3130, 2878, 3722,\n",
       "       2129, 1770, 3722, 2128, 2129, 2129, 1418, 2129, 2128, 3590, 1418,\n",
       "       1302, 1302, 3590, 1303, 1303, 1302, 1303, 1303, 1303, 3459, 1303,\n",
       "       1303, 3459, 2125, 1303, 2125, 1303, 1303, 1303, 1303, 3459, 1302,\n",
       "       1999, 1999, 1877, 3109, 3347,  961, 3347, 3109, 1877, 1877, 3109,\n",
       "       3109,  961, 1998, 2734, 2734, 2734, 1875, 1998, 1998, 1998, 1998,\n",
       "        633, 2610, 2610, 2610, 1875, 2361, 2360, 2361, 2361, 2856, 2856,\n",
       "       2361, 2361, 1994, 1994, 2236, 1994, 2236,  738, 2360,  738, 2360,\n",
       "        633, 2482,  633,  527,  527, 2482, 2234, 2234,  630, 2234,  630,\n",
       "       1755, 1755, 1637, 1637, 1755, 1637, 1637,  426,  426,  426, 1755,\n",
       "       1748, 1059, 1748, 1059, 1866, 1866, 1866, 1866, 1866,  836,  836,\n",
       "       2301, 2301, 2038, 2038, 1540, 1540, 2071, 2071, 1495, 1495, 1819,\n",
       "       1819, 1379, 1379, 1379, 1379, 1379, 1379,  965,  965,  431,  431,\n",
       "        431,  431,  239,  239,  239], dtype=int64)"
      ]
     },
     "execution_count": 14,
     "metadata": {},
     "output_type": "execute_result"
    }
   ],
   "source": [
    "duplicated_idx"
   ]
  },
  {
   "cell_type": "code",
   "execution_count": 15,
   "metadata": {},
   "outputs": [],
   "source": [
    "# 중복이 가장 많은 기상 관측소 찾기\n",
    "unique, counts = np.unique(duplicated_idx, return_counts=True)\n",
    "most_freq = unique[np.argmax(counts)]\n",
    "    # unique : 중복된 인덱스 값의 고유한 값들이 저장되어 있음음\n",
    "    # return_counts=True : 각 고유값이 배열에서 몇 번 발생하는지 세는 주는 옵션\n",
    "    # np.argmax(counts) : 중복된 횟수 중 가장 큰 값의 인덱스를 반환합니다."
   ]
  },
  {
   "cell_type": "code",
   "execution_count": 16,
   "metadata": {},
   "outputs": [
    {
     "data": {
      "text/plain": [
       "(-73.8973198485606, 40.6649319147812)"
      ]
     },
     "execution_count": 16,
     "metadata": {},
     "output_type": "execute_result"
    }
   ],
   "source": [
    "# 중복이 가장 많은 기상 관측소의 좌표\n",
    "## Recall: near은 기상학 데이터의 좌표를 저장하고 있습니다.\n",
    "most_freq_x, most_freq_y= near[most_freq]\n",
    "most_freq_x, most_freq_y"
   ]
  },
  {
   "cell_type": "code",
   "execution_count": 17,
   "metadata": {},
   "outputs": [],
   "source": [
    "# idx에서 중복이 가장 많았던 기상소와 pm2.5 관측소의 거리중 가장 큰 값 찾기\n",
    "most_pm = aqs_lonlat[idx == most_freq]\n",
    "most_met = near[most_freq]\n",
    "\n",
    "d = np.max(np.sqrt(np.sum((most_pm - most_met)**2, axis=1)))\n",
    "# 반올림\n",
    "d = np.round(d, 1)\n"
   ]
  },
  {
   "cell_type": "code",
   "execution_count": 18,
   "metadata": {},
   "outputs": [
    {
     "data": {
      "image/png": "[encoded data removed]",
      "text/plain": [
       "<Figure size 432x288 with 1 Axes>"
      ]
     },
     "metadata": {
      "needs_background": "light"
     },
     "output_type": "display_data"
    }
   ],
   "source": [
    "# 중복이 가장 많은 기상 관측소의 좌표를 찾아서 표시\n",
    "plt.scatter(aqs_lonlat[:,0], aqs_lonlat[:,1], c='r', s=10) # PM2.5 data\n",
    "plt.scatter(df1.values[:,1], df1.values[:,2], c='b', s=10) # meteorogical data\n",
    "plt.scatter(most_freq_x, most_freq_y, c='g', s=100) # 중복이 가장 많은 기상 관측소\n",
    "#  most_freq_x, most_freq_y을 중심으로 한 원 그리기\n",
    "circle = plt.Circle((most_freq_x, most_freq_y), d, color='g', fill=False)\n",
    "plt.gca().add_artist(circle)\n",
    "\n",
    "# 축의 비율을 정사각형으로 설정\n",
    "plt.gca().set_aspect('equal', adjustable='box')\n",
    "\n",
    "plt.xlim(most_freq_x-0.5, most_freq_x+0.5)\n",
    "plt.ylim(most_freq_y-0.5, most_freq_y+0.5)\n",
    "plt.show()\n"
   ]
  },
  {
   "cell_type": "code",
   "execution_count": 19,
   "metadata": {},
   "outputs": [],
   "source": [
    "df2_new = df2.assign(neighbor = idx)\n",
    "    # assign() : 새로운 열을 추가\n",
    "    # df2(PM data)에 neighbor 열을 추가하고, 그 값은 idx로 한다.\n",
    "    # recall: idx는 PM 자료 기준으로 가장 가까운 기상학 데이터의 인덱스를 저장하고 있습니다.\n",
    "\n",
    "df_pm25 = df2_new.groupby('neighbor')['PM25'].mean()\n",
    "    # groupby() : 특정 열을 기준으로 그룹화 \n",
    "    # mean() : 평균값을 구함\n",
    "    # neighbor를 기준으로 PM의 평균값을 구해서 df_pm25에 저장\n",
    "\n",
    "df_pm25_class = pd.cut(df_pm25, bins=[-0.1,12.1,35.5],labels=[\"0\",\"1\"])\n",
    "    # cut() : 구간을 나눔\n",
    "    # bins : 나눌 구간\n",
    "    # labels : 구간에 대한 이름\n",
    "    # PM25값을 기준으로 구간을 나누고, 0과 1로 분류함. 이를 df_pm25_class에 저장\n",
    "    ## 자세히 쓰자면, -0.1~12.1은 0으로, 12.1~35.5는 1로 분류함.\n",
    "    ### cut 기준을 0부터 해서 오류가 발생함. -0.1부터 시작하면 오류가 발생하지 않음.\n",
    "\n",
    "idx_new = df_pm25.index.values\n",
    "    # df_pm25의 인덱스를 idx_new에 저장\n",
    "    # 병합후 남은 기상학 관측소의 인덱스를 저장\n",
    "    # 이제 해당 기상학 관측소의 좌표를 사용하여 모형을 학습 시킬 것임."
   ]
  },
  {
   "cell_type": "markdown",
   "metadata": {},
   "source": [
    "위의 데이터 병합 과정을 설명해 보겠습니다. 다음과 같이 $i^{th}$ 기상학 관측소와 $i_{1}, \\ldots, i_{k}$ 개의 PM 관측소가 가장 가까운 그룹으로 묶여있다고 가정하겠습니다. 여기서 $a_1, \\ldots, a_k$를 각 PM 관측소에서 관측된 $PM_{2.5}$ 값이라고 하겠습니다.\n",
    "\n",
    "$$\n",
    "\\begin{pmatrix}\n",
    "i 기상학 자료 & i_1 PM 관측소 & a_1\\\\\n",
    " & i_2 PM 관측소 & a_2 \\\\\n",
    " & \\vdots  & \\\\\n",
    " & i_k PM 관측소 & a_k\n",
    "\\end{pmatrix}\n",
    "$$\n",
    "\n",
    "$$\n",
    "\\rightarrow\n",
    "$$\n",
    "\n",
    "$$\n",
    "\\begin{pmatrix}\n",
    " & 미세먼지 농도 \\\\\n",
    "i 기상학 자료 & (a_1 + \\ldots + a_k)/k\n",
    "\\end{pmatrix}\n",
    "$$\n",
    "\n",
    "\n",
    "\n",
    "추가로 위의 셀에서 df_pm_class 변수를 생성한 이유는 risk of high pollution $\\mathbb{P}(PM_{2.5} > 12 \\, \\mu g / m^3)$을 예측하기 위함입니다... 추후 사용될 예정"
   ]
  },
  {
   "cell_type": "code",
   "execution_count": 20,
   "metadata": {},
   "outputs": [
    {
     "data": {
      "text/plain": [
       "(605,)"
      ]
     },
     "execution_count": 20,
     "metadata": {},
     "output_type": "execute_result"
    }
   ],
   "source": [
    "idx_new.shape"
   ]
  },
  {
   "cell_type": "code",
   "execution_count": 21,
   "metadata": {},
   "outputs": [],
   "source": [
    "# 학습에 사용될 PM2.5 데이터와 PM2.5 클래스 데이터를 각각 z와 z_class에 저장\n",
    "pm25 = df_pm25.values\n",
    "pm25_class = np.array(df_pm25_class.values, dtype=int)\n",
    "z = pm25[:,None]\n",
    "z_class = pm25_class[:,None]"
   ]
  },
  {
   "cell_type": "code",
   "execution_count": 22,
   "metadata": {},
   "outputs": [],
   "source": [
    "# basis function을 구축하기 위해 좌표를 정규화\n",
    "lon = df1.values[:,1]\n",
    "lat = df1.values[:,2]\n",
    "normalized_lon = (lon-min(lon))/(max(lon)-min(lon))\n",
    "normalized_lat = (lat-min(lat))/(max(lat)-min(lat))\n",
    "\n",
    "# 데이터의 개수를 저장합니다.\n",
    "N = lon.shape[0]"
   ]
  },
  {
   "cell_type": "code",
   "execution_count": 23,
   "metadata": {},
   "outputs": [
    {
     "data": {
      "text/plain": [
       "7706"
      ]
     },
     "execution_count": 23,
     "metadata": {},
     "output_type": "execute_result"
    }
   ],
   "source": [
    "N"
   ]
  },
  {
   "cell_type": "markdown",
   "metadata": {},
   "source": [
    "# 반응변수 EDA"
   ]
  },
  {
   "cell_type": "code",
   "execution_count": 24,
   "metadata": {},
   "outputs": [
    {
     "data": {
      "image/png": "[encoded data removed]",
      "text/plain": [
       "<Figure size 864x432 with 2 Axes>"
      ]
     },
     "metadata": {
      "needs_background": "light"
     },
     "output_type": "display_data"
    }
   ],
   "source": [
    "# z의 히스토그램 및 z_class 파이차트 그리기\n",
    "plt.figure(figsize=(12, 6))\n",
    "\n",
    "plt.subplot(1, 2, 1)\n",
    "plt.hist(z, bins=50)\n",
    "plt.title('Histogram of PM2.5')\n",
    "\n",
    "plt.subplot(1, 2, 2)\n",
    "plt.pie([np.sum(z_class==0), np.sum(z_class==1)], labels=['Good', 'Bad'], autopct='%1.1f%%')\n",
    "plt.title('Pie chart of PM2.5 class')\n",
    "\n",
    "plt.show()"
   ]
  },
  {
   "cell_type": "markdown",
   "metadata": {},
   "source": [
    "# Basis 함수 설정\n",
    "\n",
    "## Wendland basis function\n",
    "\n",
    "Let $\\{\\mathbf{u}_j\\}, j=1,2, \\ldots, m$ be a  rectangular grid of points (or node points in the radial basis function terminology).\n",
    "\n",
    "$$\n",
    "\\phi\\left(\\left\\|\\mathbf{s}-\\mathbf{u}_j\\right\\| / \\theta\\right) = \\phi(d) =\n",
    "\\begin{cases}\n",
    "    (1-d)^6\\left(35 d^2+18 d+3\\right) / 3, & d \\in[0,1] \\\\ 0, & \\text { otherwise. }\n",
    "\\end{cases}\n",
    "$$\n",
    "\n",
    "where the scale parameter $\\theta$ is set to be 2.5 times the associated knots spacing\n",
    " according to Nychka et al. (2015)."
   ]
  },
  {
   "cell_type": "code",
   "execution_count": 25,
   "metadata": {},
   "outputs": [],
   "source": [
    "# Set the number of basis functions\n",
    "num_basis = [10**2,19**2,37**2] # 2차원 basis라서 제곱\n",
    "\n",
    "# Set the knots for the basis functions: 3 sets of knots for 3 different resolutions\n",
    "knots_1dx = [np.linspace(0,1,int(np.sqrt(i))) for i in num_basis]\n",
    "knots_1dy = [np.linspace(0,1,int(np.sqrt(i))) for i in num_basis]\n",
    "\n",
    "\n",
    "# Wendland kernel\n",
    "basis_size = 0\n",
    "phi = np.zeros((N, sum(num_basis))) # N x sum(num_basis) 크기의 0 행렬 생성\n",
    "\n",
    "# Resolution 단위 반복문\n",
    "for res in range(len(num_basis)):\n",
    "    theta = 1/np.sqrt(num_basis[res])*2.5 # scale parameter of the Wendland kernel\n",
    "    knots_x, knots_y = np.meshgrid(knots_1dx[res],knots_1dy[res])\n",
    "    knots = np.column_stack((knots_x.flatten(),knots_y.flatten())) # 좌표로 변환\n",
    "\n",
    "    # 각 단계별 resolution에 대한 Wendland kernel 계산\n",
    "    for i in range(num_basis[res]):\n",
    "        d = np.linalg.norm(np.vstack((normalized_lon, normalized_lat)).T - knots[i,:], axis=1)/theta\n",
    "            # np.vstack() : 배열을 세로로 합침. 즉, 정규화된 좌표를 2열 짜리 행렬로 변환\n",
    "            # np.linalg.norm() : 벡터의 길이를 계산. 여기서는 정규화된 좌표와 knots 사이의 거리를 계산(유클리드 거리)\n",
    "\n",
    "        # Wendland kernel 값 계산\n",
    "        for j in range(len(d)):\n",
    "            if d[j] >= 0 and d[j] <= 1:\n",
    "                phi[j,i + basis_size] = (1-d[j])**6 * (35 * d[j]**2 + 18 * d[j] + 3)/3\n",
    "            else:\n",
    "                phi[j,i + basis_size] = 0\n",
    "\n",
    "    basis_size = basis_size + num_basis[res]"
   ]
  },
  {
   "cell_type": "code",
   "execution_count": 26,
   "metadata": {},
   "outputs": [
    {
     "data": {
      "text/plain": [
       "array([[0.        , 0.        ],\n",
       "       [0.02777778, 0.        ],\n",
       "       [0.05555556, 0.        ],\n",
       "       ...,\n",
       "       [0.94444444, 1.        ],\n",
       "       [0.97222222, 1.        ],\n",
       "       [1.        , 1.        ]])"
      ]
     },
     "execution_count": 26,
     "metadata": {},
     "output_type": "execute_result"
    }
   ],
   "source": [
    "knots"
   ]
  },
  {
   "cell_type": "code",
   "execution_count": 27,
   "metadata": {},
   "outputs": [
    {
     "data": {
      "text/plain": [
       "array([[0.96725502, 0.91812118],\n",
       "       [0.97380125, 0.9122209 ],\n",
       "       [0.98031088, 0.90626846],\n",
       "       ...,\n",
       "       [0.46017898, 0.03567999],\n",
       "       [0.46538939, 0.03432521],\n",
       "       [0.47059468, 0.03292622]])"
      ]
     },
     "execution_count": 27,
     "metadata": {},
     "output_type": "execute_result"
    }
   ],
   "source": [
    "np.vstack((normalized_lon, normalized_lat)).T"
   ]
  },
  {
   "cell_type": "code",
   "execution_count": 28,
   "metadata": {},
   "outputs": [
    {
     "data": {
      "text/plain": [
       "(7706, 2)"
      ]
     },
     "execution_count": 28,
     "metadata": {},
     "output_type": "execute_result"
    }
   ],
   "source": [
    "np.vstack((normalized_lon, normalized_lat)).T.shape"
   ]
  },
  {
   "cell_type": "code",
   "execution_count": 29,
   "metadata": {},
   "outputs": [
    {
     "data": {
      "text/plain": [
       "(2,)"
      ]
     },
     "execution_count": 29,
     "metadata": {},
     "output_type": "execute_result"
    }
   ],
   "source": [
    "knots[1,:].shape"
   ]
  },
  {
   "cell_type": "code",
   "execution_count": 30,
   "metadata": {},
   "outputs": [
    {
     "data": {
      "text/plain": [
       "array([[0.93947725, 0.91812118],\n",
       "       [0.94602347, 0.9122209 ],\n",
       "       [0.9525331 , 0.90626846],\n",
       "       ...,\n",
       "       [0.4324012 , 0.03567999],\n",
       "       [0.43761161, 0.03432521],\n",
       "       [0.4428169 , 0.03292622]])"
      ]
     },
     "execution_count": 30,
     "metadata": {},
     "output_type": "execute_result"
    }
   ],
   "source": [
    "np.vstack((normalized_lon, normalized_lat)).T - knots[1,:]\n",
    "    # 위 계산은 빼주는 2차원 벡터를 N개 쌓아서 N x 2 행렬을 만들고, 이를 빼주는 행렬 연산을 수행 해 줍니다."
   ]
  },
  {
   "cell_type": "code",
   "execution_count": 31,
   "metadata": {},
   "outputs": [
    {
     "data": {
      "text/plain": [
       "array([19.44138725, 19.45007977, 19.45871801, ...,  6.42128767,\n",
       "        6.49654492,  6.57178235])"
      ]
     },
     "execution_count": 31,
     "metadata": {},
     "output_type": "execute_result"
    }
   ],
   "source": [
    "np.linalg.norm(np.vstack((normalized_lon, normalized_lat)).T - knots[1,:], axis=1)/theta"
   ]
  },
  {
   "cell_type": "markdown",
   "metadata": {},
   "source": [
    "위 코드 블럭들을 이해하자면 $\\phi$ 행렬의 $i^{th}$ 열는 $i^{th}$ knot 기준으로 모든 데이터의 정규화된 위치와의 basis function value가 저장. 이때, $i^{th}$ knot와 데이터와 거리가 멀어 해당 knot에서 basis function값이 모두 0이 될 수 있습니다. \n",
    "\n",
    "특정 열($i_*^{th}$)이 모두 0값을 가진다는 것은, 모든 데이터 포인트에서 해당 basis function의 값이 0이므로 DeepKriging 모형에서 그 embeding node는 항상 0이므로 학습에 방해가 됩니다. 왜냐하면 $j^{th}$ 행이 모형 학습시 $j^{th}$ 데이터에 대한 Embeding layer가 되기 때문에, 모든 $j^{th}$ 데이터에 대해 $i_*^{th}$ node의 값이 0인 상태가 됩니다. \n",
    "\n",
    "따라서, $i_*^{th}$ node를 통한 forward가 진행되지 않고, backpropagation에 대한 update를 전혀 주지 않게 됩니다. 오히려, 모델의 모수 개수만 늘려 효율성만 떨어뜨리는 결과를 야기하게 될 가능성이 높을것으로 보입니다."
   ]
  },
  {
   "cell_type": "code",
   "execution_count": 32,
   "metadata": {},
   "outputs": [
    {
     "data": {
      "text/plain": [
       "[100, 361, 1369]"
      ]
     },
     "execution_count": 32,
     "metadata": {},
     "output_type": "execute_result"
    }
   ],
   "source": [
    "num_basis"
   ]
  },
  {
   "cell_type": "code",
   "execution_count": 33,
   "metadata": {},
   "outputs": [],
   "source": [
    "## Romove the all-zero columns\n",
    "idx_zero = np.array([], dtype=int)\n",
    "for i in range(phi.shape[1]):\n",
    "    if sum(phi[:,i]!=0)==0:\n",
    "        idx_zero = np.append(idx_zero,int(i))"
   ]
  },
  {
   "cell_type": "code",
   "execution_count": 34,
   "metadata": {},
   "outputs": [
    {
     "name": "stdout",
     "output_type": "stream",
     "text": [
      "(7706, 1830)\n",
      "(7706, 1486)\n"
     ]
    }
   ],
   "source": [
    "phi_reduce = np.delete(phi,idx_zero,1)\n",
    "print(phi.shape)\n",
    "print(phi_reduce.shape)"
   ]
  },
  {
   "cell_type": "code",
   "execution_count": 35,
   "metadata": {},
   "outputs": [
    {
     "data": {
      "text/plain": [
       "array([[0.00000000e+00, 0.00000000e+00, 0.00000000e+00, ...,\n",
       "        0.00000000e+00, 0.00000000e+00, 0.00000000e+00],\n",
       "       [0.00000000e+00, 0.00000000e+00, 0.00000000e+00, ...,\n",
       "        0.00000000e+00, 0.00000000e+00, 0.00000000e+00],\n",
       "       [0.00000000e+00, 0.00000000e+00, 0.00000000e+00, ...,\n",
       "        0.00000000e+00, 0.00000000e+00, 0.00000000e+00],\n",
       "       ...,\n",
       "       [4.91492736e-08, 8.28326623e-02, 8.02443262e-01, ...,\n",
       "        0.00000000e+00, 0.00000000e+00, 0.00000000e+00],\n",
       "       [5.55982500e-10, 6.80625788e-02, 7.91566710e-01, ...,\n",
       "        0.00000000e+00, 0.00000000e+00, 0.00000000e+00],\n",
       "       [0.00000000e+00, 5.52160967e-02, 7.74831110e-01, ...,\n",
       "        0.00000000e+00, 0.00000000e+00, 0.00000000e+00]])"
      ]
     },
     "execution_count": 35,
     "metadata": {},
     "output_type": "execute_result"
    }
   ],
   "source": [
    "phi_reduce"
   ]
  },
  {
   "cell_type": "code",
   "execution_count": 36,
   "metadata": {},
   "outputs": [
    {
     "data": {
      "image/png": "[encoded data removed]",
      "text/plain": [
       "<Figure size 432x288 with 2 Axes>"
      ]
     },
     "metadata": {
      "needs_background": "light"
     },
     "output_type": "display_data"
    }
   ],
   "source": [
    "# phi_reduce 시각화, 색상 팔레트 변경\n",
    "plt.imshow(phi_reduce, aspect='auto',cmap='jet')\n",
    "plt.colorbar()\n",
    "plt.show()\n"
   ]
  },
  {
   "cell_type": "code",
   "execution_count": 37,
   "metadata": {},
   "outputs": [],
   "source": [
    "# Recall) idx_new는 자료 병합 후 기상학 관측소의 인덱스를 의미합니다.\n",
    "phi_obs = phi_reduce[idx_new,:]\n",
    "s_obs = np.vstack((normalized_lon[idx_new], normalized_lat[idx_new])).T\n",
    "X = covariates[idx_new,:]\n",
    "    # phi_obs : 학습에 사용될 기상학 관측소의 basis function 값 행렬\n",
    "    # s_obs : 학습에 사용될 기상학 관측소의 좌표\n",
    "    # X : 학습에 사용될 기상학 관측소의 공변량\n",
    "\n",
    "# 딥러닝을 위해 입력변수를 정규화\n",
    "normalized_X = X\n",
    "\n",
    "for i in range(X.shape[1]):\n",
    "    normalized_X[:,i] = (X[:,i]-min(X[:,i]))/(max(X[:,i])-min(X[:,i]))\n",
    "\n",
    "# 학습에 사용되는 기상학 관측소의 개수(데이터의 개수)\n",
    "N_obs = X.shape[0]"
   ]
  },
  {
   "cell_type": "code",
   "execution_count": 38,
   "metadata": {},
   "outputs": [
    {
     "data": {
      "text/plain": [
       "605"
      ]
     },
     "execution_count": 38,
     "metadata": {},
     "output_type": "execute_result"
    }
   ],
   "source": [
    "N_obs"
   ]
  },
  {
   "cell_type": "code",
   "execution_count": 39,
   "metadata": {},
   "outputs": [
    {
     "data": {
      "text/plain": [
       "array([[0.98031088, 0.90626846],\n",
       "       [0.98309348, 0.88976228],\n",
       "       [0.97423795, 0.81472205],\n",
       "       ...,\n",
       "       [0.46866546, 0.09037756],\n",
       "       [0.46017898, 0.03567999],\n",
       "       [0.47059468, 0.03292622]])"
      ]
     },
     "execution_count": 39,
     "metadata": {},
     "output_type": "execute_result"
    }
   ],
   "source": [
    "s_obs"
   ]
  },
  {
   "cell_type": "markdown",
   "metadata": {},
   "source": [
    "## The risk of high pollution $\\mathbb{I}(PM_{2.5} > 12 \\, \\mu g / m^3)$ class 나누기"
   ]
  },
  {
   "cell_type": "code",
   "execution_count": 40,
   "metadata": {},
   "outputs": [
    {
     "data": {
      "image/png": "[encoded data removed]",
      "text/plain": [
       "<Figure size 432x288 with 1 Axes>"
      ]
     },
     "metadata": {
      "needs_background": "light"
     },
     "output_type": "display_data"
    }
   ],
   "source": [
    "# scatter plot of the circles dataset with points colored by class\n",
    "from numpy import where\n",
    "from matplotlib import pyplot\n",
    "\n",
    "# select indices of points with each class label\n",
    "for i in range(2):\n",
    "\tsamples_ix = where(z_class[:,0] == i)\n",
    "\tpyplot.scatter(s_obs[samples_ix, 0], s_obs[samples_ix, 1], label=str(i))\n",
    "pyplot.legend()\n",
    "pyplot.show()"
   ]
  },
  {
   "cell_type": "markdown",
   "metadata": {},
   "source": [
    "## Save the prepocessed data for Kriging"
   ]
  },
  {
   "cell_type": "code",
   "execution_count": 41,
   "metadata": {},
   "outputs": [
    {
     "name": "stderr",
     "output_type": "stream",
     "text": [
      "C:\\Users\\admin\\AppData\\Local\\Temp\\ipykernel_552\\2455032538.py:2: RuntimeWarning: divide by zero encountered in log\n",
      "  z_log = np.log(z)\n"
     ]
    }
   ],
   "source": [
    "## Save the prepocessed data for Kriging\n",
    "z_log = np.log(z)\n",
    "kriging = np.concatenate((s_obs, normalized_X, z, z_class, z_log), axis=1)\n",
    "\n",
    "# ###### 아래 코드는 CV결과에 의심되는 것이 있어 데이터의 순서를 뒤집는 코드입니다. ######\n",
    "# # 데이터프레임으로 만들기\n",
    "# kriging = pd.DataFrame(kriging)\n",
    "# # 순서 뒤집기\n",
    "# kriging = kriging.iloc[::-1].reset_index(drop=True)\n",
    "# # 배열로 돌리기\n",
    "# kriging = kriging.values\n",
    "# ###### 뒤집기 끝 ########\n",
    "\n",
    "traindf=pd.DataFrame(kriging)\n",
    "traindf.to_csv('.\\kriging.csv')\n",
    "\n",
    "## Save the prepocessed data for FRK(좌표 정규화 x)\n",
    "s_obs2 = np.vstack((lon[idx_new], lat[idx_new])).T\n",
    "kriging2 = np.concatenate((s_obs2, X, z, z_class, z_log), axis=1)\n",
    "\n",
    "# ###### 아래 코드는 CV결과에 의심되는 것이 있어 데이터의 순서를 뒤집는 코드입니다. ######\n",
    "# # 데이터프레임으로 만들기\n",
    "# kriging2 = pd.DataFrame(kriging2)\n",
    "# # 순서 뒤집기\n",
    "# kriging2 = kriging2.iloc[::-1].reset_index(drop=True)\n",
    "# # 배열로 돌리기\n",
    "# kriging2 = kriging2.values\n",
    "# ###### 뒤집기 끝 ########"
   ]
  },
  {
   "cell_type": "code",
   "execution_count": 42,
   "metadata": {},
   "outputs": [
    {
     "name": "stderr",
     "output_type": "stream",
     "text": [
      "C:\\Users\\admin\\AppData\\Local\\Temp\\ipykernel_552\\1516451194.py:2: RuntimeWarning: divide by zero encountered in log\n",
      "  z_log = np.log(z)\n"
     ]
    }
   ],
   "source": [
    "## Save the prepocessed data for Kriging\n",
    "z_log = np.log(z)\n",
    "kriging = np.concatenate((s_obs, normalized_X, z, z_class, z_log), axis=1)\n",
    "traindf=pd.DataFrame(kriging)\n",
    "traindf.to_csv('.\\kriging.csv')\n",
    "\n",
    "## Save the prepocessed data for FRK(좌표 정규화 x)\n",
    "s_obs2 = np.vstack((lon[idx_new], lat[idx_new])).T\n",
    "kriging2 = np.concatenate((s_obs2, X, z, z_class, z_log), axis=1)\n",
    "traindf2=pd.DataFrame(kriging2)\n",
    "traindf2.to_csv('.\\kriging2.csv')"
   ]
  },
  {
   "cell_type": "markdown",
   "metadata": {},
   "source": [
    "# Load the useful functions\n",
    "\n",
    "> 주의: deep_model 함수에 model.compile과 model.fit이 내장되어 있습니다.\n",
    "\n",
    "`complile()` Method\n",
    " - `loss`: 모형의 학습에 사용되는 손실함수를 정의합니다.\n",
    " - `optimizer`: 함수 최적화 시 사용할 방법을 선택합니다. 예를 들어, adam, sgd 등이 있겠습니다.\n",
    " - `metrics`: 모델을 학습시키고 평가할 때 사용하는 평가 지표"
   ]
  },
  {
   "cell_type": "code",
   "execution_count": 43,
   "metadata": {},
   "outputs": [],
   "source": [
    "# def deep_model(model, X_train, y_train, X_valid, y_valid, data_type):\n",
    "#     '''\n",
    "#     Function to train a multi-class model. The number of \"epochs\" and \n",
    "#     \"batch_size\" are set by the constants at the top of the\n",
    "#     notebook. \n",
    "    \n",
    "#     Parameters:\n",
    "#         model : model with the chosen architecture\n",
    "#         X_train : training features\n",
    "#         y_train : training target\n",
    "#         X_valid : validation features\n",
    "#         Y_valid : validation target\n",
    "#     Output:\n",
    "#         model training history\n",
    "#     '''\n",
    "#     if data_type == 'continuous':\n",
    "#         model.compile(optimizer='adam'\n",
    "#                       , loss='mse'\n",
    "#                       , metrics=['mse','mae'])\n",
    "#     if data_type == 'discrete':\n",
    "#         model.compile(loss='binary_crossentropy', optimizer='adam', metrics=['accuracy'])\n",
    "    \n",
    "#     history = model.fit(X_train\n",
    "#                        , y_train\n",
    "#                        , epochs=NB_START_EPOCHS\n",
    "#                        , batch_size=BATCH_SIZE\n",
    "#                        , validation_data=(X_valid, y_valid)\n",
    "#                        , verbose=0)\n",
    "#     return history\n",
    "\n",
    "# def test_model(model, X_train, y_train, X_test, y_test, epoch_stop):\n",
    "#     '''\n",
    "#     Function to test the model on new data after training it\n",
    "#     on the full training data with the optimal number of epochs.\n",
    "    \n",
    "#     Parameters:\n",
    "#         model : trained model\n",
    "#         X_train : training features\n",
    "#         y_train : training target\n",
    "#         X_test : test features, NOT VALIDATION FEATURES\n",
    "#         y_test : test target, NOT VALIDATION TARGET\n",
    "#         epochs : optimal number of epochs\n",
    "#     Output:\n",
    "#         test accuracy and test loss\n",
    "#     '''\n",
    "#     model.fit(X_train\n",
    "#               , y_train\n",
    "#               , epochs=epoch_stop\n",
    "#               , batch_size=BATCH_SIZE\n",
    "#               , verbose=0)\n",
    "#     results = model.evaluate(X_test, y_test, verbose=0)\n",
    "#     return results\n",
    "    \n",
    "# def optimal_epoch(model_hist):\n",
    "#     '''\n",
    "#     Function to return the epoch number where the validation loss is\n",
    "#     at its minimum\n",
    "    \n",
    "#     Parameters:\n",
    "#         model_hist : training history of model\n",
    "#     Output:\n",
    "#         epoch number with minimum validation loss\n",
    "#     '''\n",
    "#     min_epoch = np.argmin(model_hist.history['val_loss']) + 1\n",
    "#     return min_epoch"
   ]
  },
  {
   "cell_type": "markdown",
   "metadata": {},
   "source": [
    "논문의 저자가 제공하는 코드는 CV 진행시 Validation data를 이용하여 최적의 에포크 값을 찾습니다. 이 방법이 부당하다고 느껴질 수 있기 때문에, 다음과 같이 코드를 수정하였습니다.\n",
    "\n",
    " - 데이터를 train / validation으로 나눕니다.\n",
    " - 그 후 최적의 epoch를 찾기 위해, train을 train_tune / test_tune으로 6:4다시 나눕니다.\n",
    "\n",
    "이후 나누어진 tune 데이터들을 사용하여 최적의 epoch값을 찾아 valiation을 진행 합니다.\n",
    "\n",
    "> 주의: 여기서 데이터를 나눌때 공간적 상관성을 고려하지 못하고 랜덤하게 나누게 됩니다."
   ]
  },
  {
   "cell_type": "code",
   "execution_count": 44,
   "metadata": {},
   "outputs": [],
   "source": [
    "def deep_model(model, X_train, y_train, data_type):\n",
    "    '''\n",
    "    Function to train a multi-class model. The number of \"epochs\" and \n",
    "    \"batch_size\" are set by the constants at the top of the\n",
    "    notebook. \n",
    "    \n",
    "    Parameters:\n",
    "        model : model with the chosen architecture\n",
    "        X_train : training features\n",
    "        y_train : training target\n",
    "        Y_valid : validation target\n",
    "    Output:\n",
    "        model training history\n",
    "    '''\n",
    "    if data_type == 'continuous':\n",
    "        model.compile(optimizer='adam'\n",
    "                      , loss='mse'\n",
    "                      , metrics=['mse','mae'])\n",
    "    if data_type == 'discrete':\n",
    "        model.compile(loss='binary_crossentropy', optimizer='adam', metrics=['accuracy'])\n",
    "    \n",
    "    # train데이터를 7:3로 나눕니다.\n",
    "    X_train_tune, X_valid_tune, y_train_tune, y_valid_tune = train_test_split(X_train, y_train, test_size=0.3, random_state=0)\n",
    "\n",
    "    history = model.fit(X_train_tune\n",
    "                       , y_train_tune\n",
    "                       , epochs=NB_START_EPOCHS\n",
    "                       , batch_size=BATCH_SIZE\n",
    "                       , validation_data=(X_valid_tune, y_valid_tune)\n",
    "                       , verbose=0)\n",
    "    return history\n",
    "\n",
    "def test_model(model, X_train, y_train, X_test, y_test, epoch_stop):\n",
    "    '''\n",
    "    Function to test the model on new data after training it\n",
    "    on the full training data with the optimal number of epochs.\n",
    "    \n",
    "    Parameters:\n",
    "        model : trained model\n",
    "        X_train : training features\n",
    "        y_train : training target\n",
    "        X_test : test features, NOT VALIDATION FEATURES\n",
    "        y_test : test target, NOT VALIDATION TARGET\n",
    "        epochs_stop : optimal number of epochs(이때 학습이 중단됩니다.)\n",
    "    Output:\n",
    "        test accuracy and test loss\n",
    "    '''\n",
    "    model.fit(X_train\n",
    "              , y_train\n",
    "              , epochs=epoch_stop\n",
    "              , batch_size=BATCH_SIZE\n",
    "              , verbose=0)\n",
    "    results = model.evaluate(X_test, y_test, verbose=0)\n",
    "    return results\n",
    "    \n",
    "def optimal_epoch(model_hist):\n",
    "    '''\n",
    "    Function to return the epoch number where the validation loss is\n",
    "    at its minimum\n",
    "    \n",
    "    Parameters:\n",
    "        model_hist : training history of model\n",
    "    Output:\n",
    "        epoch number with minimum validation loss\n",
    "    '''\n",
    "    min_epoch = np.argmin(model_hist.history['val_loss']) + 1\n",
    "    return min_epoch"
   ]
  },
  {
   "cell_type": "markdown",
   "metadata": {},
   "source": [
    "# Hyperparameter Tuning\n",
    "\n",
    "딥러닝 모형의 히든 노드 개수를 튜닝하기 위해 `kerastuner`를 사용합니다. 해당 방법은 정해진 노드의 개수, 학습률에서 적당히 grid 서치 해주어 validation error가 가장 낮은 조합을 찾아줍니다."
   ]
  },
  {
   "cell_type": "code",
   "execution_count": 45,
   "metadata": {},
   "outputs": [
    {
     "name": "stderr",
     "output_type": "stream",
     "text": [
      "C:\\Users\\admin\\AppData\\Local\\Temp\\ipykernel_552\\1470784104.py:8: DeprecationWarning: `import kerastuner` is deprecated, please use `import keras_tuner`.\n",
      "  import kerastuner as kt\n"
     ]
    }
   ],
   "source": [
    "import tensorflow as tf\n",
    "from tensorflow import keras\n",
    "\n",
    "import IPython\n",
    "\n",
    "# !pip install -q -U keras-tuner\n",
    "\n",
    "import kerastuner as kt"
   ]
  },
  {
   "cell_type": "code",
   "execution_count": 46,
   "metadata": {},
   "outputs": [],
   "source": [
    "# hyperparameter tuning을 위해 입력변수 생성\n",
    "p = covariates.shape[1] + phi_reduce.shape[1]"
   ]
  },
  {
   "cell_type": "code",
   "execution_count": 47,
   "metadata": {},
   "outputs": [
    {
     "name": "stderr",
     "output_type": "stream",
     "text": [
      "c:\\Users\\admin\\AppData\\Local\\Programs\\Python\\Python310\\lib\\site-packages\\keras\\src\\layers\\core\\dense.py:87: UserWarning: Do not pass an `input_shape`/`input_dim` argument to a layer. When using Sequential models, prefer using an `Input(shape)` object as the first layer in the model instead.\n",
      "  super().__init__(activity_regularizer=activity_regularizer, **kwargs)\n"
     ]
    }
   ],
   "source": [
    "def model_builder(hp):\n",
    "  model_hp = Sequential()\n",
    "\n",
    "  # Tune the number of units in the first Dense layer\n",
    "  # Choose an optimal value between 100 ~ 500\n",
    "  hp_layer_1 = hp.Int('layer_1', min_value = 100, max_value = 500, step = 50)\n",
    "  # hp_layer_2 = hp.Int('layer_2', min_value = 100, max_value = 500, step = 50)\n",
    "  # hp_layer_3 = hp.Int('layer_3', min_value = 100, max_value = 500, step = 50)\n",
    "\n",
    "  model_hp.add(Dense(units = hp_layer_1, input_dim = p, kernel_initializer='he_uniform', activation='relu'))\n",
    "  model_hp.add(Dropout(rate=0.5))\n",
    "  model_hp.add(BatchNormalization())\n",
    "\n",
    "  model_hp.add(Dense(units = hp_layer_1, activation='relu'))\n",
    "  model_hp.add(Dropout(rate=0.5))\n",
    "  model_hp.add(BatchNormalization())\n",
    "\n",
    "  model_hp.add(Dense(units = hp_layer_1, activation='relu'))\n",
    "  model_hp.add(Dropout(rate=0.5))\n",
    "  model_hp.add(BatchNormalization())\n",
    "\n",
    "  model_hp.add(Dense(units = hp_layer_1, activation='relu'))\n",
    "  model_hp.add(Dropout(rate=0.5))\n",
    "  model_hp.add(BatchNormalization())\n",
    "\n",
    "  model_hp.add(Dense(units = hp_layer_1, activation='relu'))\n",
    "  model_hp.add(BatchNormalization())\n",
    "  model_hp.add(Dense(1, activation='relu'))\n",
    "\n",
    "  # Tune the learning rate for the optimizer \n",
    "  # Choose an optimal value from 0.1 to 0.0001\n",
    "  hp_learning_rate = hp.Choice('learning_rate', values = [1e-2]) \n",
    "\n",
    "  model_hp.compile(optimizer = keras.optimizers.Adam(learning_rate = hp_learning_rate),\n",
    "                      loss = keras.losses.MeanSquaredError(reduction=\"sum_over_batch_size\", name=\"mean_squared_error\"), \n",
    "                      metrics = ['mse'])\n",
    "\n",
    "  return model_hp\n",
    "\n",
    "tuner = kt.Hyperband(hypermodel = model_builder,\n",
    "                     objective = 'val_mse', \n",
    "                     max_epochs = 20,\n",
    "                     factor = 2,\n",
    "                    #  directory = 'my_dir',\n",
    "                     project_name = 'tune_1')\n",
    "\n",
    "stop_early = tf.keras.callbacks.EarlyStopping(monitor='val_loss', patience=3)"
   ]
  },
  {
   "cell_type": "code",
   "execution_count": 48,
   "metadata": {},
   "outputs": [],
   "source": [
    "# 입력변수 정의\n",
    "inputs = np.hstack((normalized_X, phi_obs)) # DeepKriging을 위한 입력변수\n",
    "\n",
    "# 타겟변수 정의\n",
    "targets = z\n",
    "targets_class = z_class\n",
    "\n",
    "# train데이터를 7:3로 나눕니다.\n",
    "X_tra, X_val, y_tra, y_val = train_test_split(inputs, targets, test_size=0.3, random_state=0)"
   ]
  },
  {
   "cell_type": "code",
   "execution_count": 49,
   "metadata": {},
   "outputs": [
    {
     "name": "stdout",
     "output_type": "stream",
     "text": [
      "Trial 8 Complete [00h 00m 04s]\n",
      "val_mse: 52.62607192993164\n",
      "\n",
      "Best val_mse So Far: 13.90993881225586\n",
      "Total elapsed time: 00h 00m 30s\n"
     ]
    }
   ],
   "source": [
    "tuner.search(X_tra, y_tra, epochs = 30, validation_data = (X_val, y_val), callbacks = [stop_early])"
   ]
  },
  {
   "cell_type": "code",
   "execution_count": 50,
   "metadata": {},
   "outputs": [
    {
     "name": "stdout",
     "output_type": "stream",
     "text": [
      "\n",
      "The hyperparameter search is complete. \n",
      "The optimal number of units in the  layers is 100.\n",
      "\n"
     ]
    }
   ],
   "source": [
    "# Get the optimal hyperparameters\n",
    "best_hps = tuner.get_best_hyperparameters(num_trials = 1)[0]\n",
    "\n",
    "print(f\"\"\"\n",
    "The hyperparameter search is complete. \n",
    "The optimal number of units in the  layers is {best_hps.get('layer_1')}.\n",
    "\"\"\")"
   ]
  },
  {
   "cell_type": "markdown",
   "metadata": {},
   "source": [
    "# CV 수행"
   ]
  },
  {
   "cell_type": "code",
   "execution_count": 51,
   "metadata": {},
   "outputs": [],
   "source": [
    "from sklearn.model_selection import KFold\n",
    "NB_START_EPOCHS = 400  # Number of epochs(논문 제시값 200)\n",
    "BATCH_SIZE = 64  # Size of the batches used in the mini-batch gradient descent"
   ]
  },
  {
   "cell_type": "markdown",
   "metadata": {},
   "source": [
    "### [CV] All Methods"
   ]
  },
  {
   "cell_type": "code",
   "execution_count": 52,
   "metadata": {},
   "outputs": [],
   "source": [
    "# np.random.seed(123) # 랜덤 시드 고정\n",
    "\n",
    "# fold cross-validation\n",
    "num_folds = 10\n",
    "kfold = KFold(n_splits=num_folds, shuffle=True, random_state = 25)\n",
    "    # KFold() : K-Folds cross-validator 생성\n",
    "    # n_splits : 폴드 수\n",
    "    # shuffle : 데이터를 분할하기 전 무작위로 섞을지 여부\n",
    "    # random_state : 데이터를 무작위로 섞을 때 사용하는 난수 발생기 시드\n",
    "\n",
    "# 입력변수 정의\n",
    "inputs = np.hstack((normalized_X, phi_obs)) # DeepKriging을 위한 입력변수\n",
    "inputs_base = np.hstack((normalized_X, s_obs)) # Baseline DNN을 위한 입력변수\n",
    "inputs_nx = phi_obs # DK NO X를 위한 입력변수\n",
    "\n",
    "# 타겟변수 정의\n",
    "targets = z\n",
    "targets_class = z_class\n",
    "\n",
    "# 성능 비교 값들 받을 리스트 생성\n",
    "mse_per_fold = []\n",
    "mse_per_fold_deep = []\n",
    "mse_per_fold_wide = []\n",
    "mse_per_fold_base = []\n",
    "mse_per_fold_nx = []\n",
    "mse_per_fold_t = []\n",
    "\n",
    "mae_per_fold = []\n",
    "mae_per_fold_deep = []\n",
    "mae_per_fold_wide = []\n",
    "mae_per_fold_base = []\n",
    "mae_per_fold_nx = []\n",
    "mae_per_fold_t = []\n",
    "\n",
    "acc_per_fold = []\n",
    "acc_per_fold_deep = []\n",
    "acc_per_fold_wide = []\n",
    "acc_per_fold_base = []\n",
    "acc_per_fold_nx = []\n",
    "acc_per_fold_t = []"
   ]
  },
  {
   "cell_type": "markdown",
   "metadata": {},
   "source": [
    "**주의: 밑의 CV 코드 블럭 실행 시간 약 180분(연구실 컴퓨터 기준)/60분(자취방 기준)**\n",
    "\n",
    "실행 시간을 줄이고 싶으면 `NB_START_EPOCHS = 300`값을 줄이거나\n",
    "밑의 `model_optim = optimal_epoch(history)`코드에서 `optimal_epoch(history_...)` 부분을 작은 숫자로 바꾸어 돌리면 됩니다."
   ]
  },
  {
   "cell_type": "code",
   "execution_count": 53,
   "metadata": {},
   "outputs": [
    {
     "name": "stdout",
     "output_type": "stream",
     "text": [
      "------------------------------------------------------------------------\n",
      "Fold: 1 ...\n",
      "Complie and fitting for fold 1 ...\n",
      "Test for fold 1 ...\n",
      "------------------------------------------------------------------------\n",
      "Fold: 2 ...\n",
      "Complie and fitting for fold 2 ...\n",
      "Test for fold 2 ...\n",
      "------------------------------------------------------------------------\n",
      "Fold: 3 ...\n",
      "Complie and fitting for fold 3 ...\n",
      "Test for fold 3 ...\n",
      "------------------------------------------------------------------------\n",
      "Fold: 4 ...\n",
      "Complie and fitting for fold 4 ...\n",
      "Test for fold 4 ...\n",
      "------------------------------------------------------------------------\n",
      "Fold: 5 ...\n",
      "Complie and fitting for fold 5 ...\n",
      "Test for fold 5 ...\n",
      "------------------------------------------------------------------------\n",
      "Fold: 6 ...\n",
      "Complie and fitting for fold 6 ...\n",
      "Test for fold 6 ...\n",
      "------------------------------------------------------------------------\n",
      "Fold: 7 ...\n",
      "Complie and fitting for fold 7 ...\n",
      "Test for fold 7 ...\n",
      "------------------------------------------------------------------------\n",
      "Fold: 8 ...\n",
      "Complie and fitting for fold 8 ...\n",
      "Test for fold 8 ...\n",
      "------------------------------------------------------------------------\n",
      "Fold: 9 ...\n",
      "Complie and fitting for fold 9 ...\n",
      "Test for fold 9 ...\n",
      "------------------------------------------------------------------------\n",
      "Fold: 10 ...\n",
      "Complie and fitting for fold 10 ...\n",
      "Test for fold 10 ...\n"
     ]
    }
   ],
   "source": [
    "# 폴드 번호 지정\n",
    "fold_no = 1\n",
    "\n",
    "for train_idx, test_idx in kfold.split(inputs, targets):\n",
    "        # kfold.split() : 각 폴드에 대해 학습용, 테스트용 인덱스를 생성\n",
    "    print('------------------------------------------------------------------------')\n",
    "    print(f'Fold: {fold_no} ...')\n",
    "\n",
    "    ##### Model for continuous data #####\n",
    "    # 매 폴드마다 가중치를 초기화 해야 하므로 모형을 매 폴드마다 새로 정의!\n",
    "    \n",
    "    # 모델 정의를 위해 입력변수의 차원을 정의\n",
    "    p = covariates.shape[1] + phi_reduce.shape[1]\n",
    "    p_base = covariates.shape[1] + s_obs.shape[1]\n",
    "    p2 =  phi_reduce.shape[1] # Embedding layer만 사용\n",
    "\n",
    "    # DeepKriging model for continuous data\n",
    "    model = Sequential()\n",
    "    model.add(Dense(100, input_dim = p, kernel_initializer='he_uniform', activation='relu'))\n",
    "    model.add(Dropout(rate=0.5))\n",
    "    model.add(BatchNormalization())\n",
    "    model.add(Dense(100, activation='relu'))\n",
    "    model.add(Dropout(rate=0.5))\n",
    "    model.add(Dense(100, activation='relu'))\n",
    "    model.add(BatchNormalization())\n",
    "    model.add(Dense(1, activation='relu'))\n",
    "\n",
    "    # Deeper DeepKriging model for continuous data\n",
    "    model_deep = Sequential()\n",
    "    model_deep.add(Dense(100, input_dim = p, kernel_initializer='he_uniform', activation='relu'))\n",
    "    model_deep.add(Dropout(rate=0.5))\n",
    "    model_deep.add(BatchNormalization())\n",
    "    model_deep.add(Dense(100, activation='relu'))\n",
    "    model_deep.add(Dropout(rate=0.5))\n",
    "    model_deep.add(Dense(100, activation='relu'))\n",
    "    model_deep.add(BatchNormalization())\n",
    "    model_deep.add(Dense(100, activation='relu'))\n",
    "    model_deep.add(Dropout(rate=0.5))\n",
    "    model_deep.add(Dense(100, activation='relu'))\n",
    "    model_deep.add(BatchNormalization())\n",
    "    model_deep.add(Dense(1, activation='relu'))\n",
    "    \n",
    "    # Wider DeepKriging model for continuous data\n",
    "    model_wide = Sequential()\n",
    "    model_wide.add(Dense(200, input_dim = p, kernel_initializer='he_uniform', activation='relu'))\n",
    "    model_wide.add(Dropout(rate=0.5))\n",
    "    model_wide.add(BatchNormalization())\n",
    "    model_wide.add(Dense(200, activation='relu'))\n",
    "    model_wide.add(Dropout(rate=0.5))\n",
    "    model_wide.add(Dense(200, activation='relu'))\n",
    "    model_wide.add(BatchNormalization())\n",
    "    model_wide.add(Dense(1, activation='relu'))\n",
    "\n",
    "    # Baseline DNN model for continuous data\n",
    "    model_base = Sequential()\n",
    "    model_base.add(Dense(100, input_dim = p_base, kernel_initializer='he_uniform', activation='relu'))\n",
    "    model_base.add(Dropout(rate=0.5))\n",
    "    model_base.add(BatchNormalization())\n",
    "    model_base.add(Dense(100, activation='relu'))\n",
    "    model_base.add(Dropout(rate=0.5))\n",
    "    model_base.add(Dense(100, activation='relu'))\n",
    "    model_base.add(BatchNormalization())\n",
    "    model_base.add(Dense(1, activation='relu'))\n",
    "\n",
    "    # DeepKriging NO X model for continuous data\n",
    "    model_nx = Sequential()\n",
    "    model_nx.add(Dense(100, input_dim = p2,  kernel_initializer='he_uniform', activation='relu'))\n",
    "    model_nx.add(Dropout(rate=0.5))\n",
    "    model_nx.add(BatchNormalization())\n",
    "    model_nx.add(Dense(100, activation='relu'))\n",
    "    model_nx.add(Dropout(rate=0.5))\n",
    "    model_nx.add(Dense(100, activation='relu'))\n",
    "    model_nx.add(BatchNormalization())\n",
    "    model_nx.add(Dense(1, activation='relu'))\n",
    "\n",
    "    # DK tuned model for continuous data\n",
    "    model_t = Sequential()\n",
    "    model_t.add(Dense(best_hps.get('layer_1'), input_dim = p, kernel_initializer='he_uniform', activation='relu'))\n",
    "    model_t.add(Dropout(rate=0.5))\n",
    "    model_t.add(BatchNormalization())\n",
    "    model_t.add(Dense(best_hps.get('layer_1'), activation='relu'))\n",
    "    model_t.add(Dropout(rate=0.5))\n",
    "    model_t.add(BatchNormalization())\n",
    "    model_t.add(Dense(best_hps.get('layer_1'), activation='relu'))\n",
    "    model_t.add(Dropout(rate=0.5))\n",
    "    model_t.add(BatchNormalization())\n",
    "    model_t.add(Dense(best_hps.get('layer_1'), activation='relu'))\n",
    "    model_t.add(Dropout(rate=0.5))\n",
    "    model_t.add(BatchNormalization())\n",
    "    model_t.add(Dense(best_hps.get('layer_1'), activation='relu'))\n",
    "    model_t.add(BatchNormalization())\n",
    "    model_t.add(Dense(1, activation='relu'))\n",
    "\n",
    "    ##### Model for categorical data #####  \n",
    "    \n",
    "    # DeepKriging model for categorical data\n",
    "    model_class = Sequential()\n",
    "    model_class.add(Dense(100, input_dim = p, kernel_initializer='he_uniform', activation='relu'))\n",
    "    model_class.add(Dropout(rate=0.5))\n",
    "    model_class.add(BatchNormalization())\n",
    "    model_class.add(Dense(100, activation='relu'))\n",
    "    model_class.add(Dropout(rate=0.5))\n",
    "    model_class.add(Dense(100, activation='relu'))\n",
    "    model_class.add(BatchNormalization())\n",
    "    model_class.add(Dense(1, activation='sigmoid'))\n",
    "\n",
    "    # Deeper DeepKriging model for categorical data\n",
    "    model_deep_class = Sequential()\n",
    "    model_deep_class.add(Dense(100, input_dim = p, kernel_initializer='he_uniform', activation='relu'))\n",
    "    model_deep_class.add(Dropout(rate=0.5))\n",
    "    model_deep_class.add(BatchNormalization())\n",
    "    model_deep_class.add(Dense(100, activation='relu'))\n",
    "    model_deep_class.add(Dropout(rate=0.5))\n",
    "    model_deep_class.add(Dense(100, activation='relu'))\n",
    "    model_deep_class.add(BatchNormalization())\n",
    "    model_deep_class.add(Dense(100, activation='relu'))\n",
    "    model_deep_class.add(Dropout(rate=0.5))\n",
    "    model_deep_class.add(Dense(100, activation='relu'))\n",
    "    model_deep_class.add(BatchNormalization())\n",
    "    model_deep_class.add(Dense(1, activation='sigmoid'))\n",
    "    \n",
    "    # Wider DeepKriging model for categorical data\n",
    "    model_wide_class = Sequential()\n",
    "    model_wide_class.add(Dense(200, input_dim = p, kernel_initializer='he_uniform', activation='relu'))\n",
    "    model_wide_class.add(Dropout(rate=0.5))\n",
    "    model_wide_class.add(BatchNormalization())\n",
    "    model_wide_class.add(Dense(200, activation='relu'))\n",
    "    model_wide_class.add(Dropout(rate=0.5))\n",
    "    model_wide_class.add(Dense(200, activation='relu'))\n",
    "    model_wide_class.add(BatchNormalization())\n",
    "    model_wide_class.add(Dense(1, activation='sigmoid'))\n",
    "\n",
    "    # Baseline DNN model for categorical data\n",
    "    model_base_class = Sequential()\n",
    "    model_base_class.add(Dense(100, input_dim = p_base, kernel_initializer='he_uniform', activation='relu'))\n",
    "    model_base_class.add(Dropout(rate=0.5))\n",
    "    model_base_class.add(BatchNormalization())\n",
    "    model_base_class.add(Dense(100, activation='relu'))\n",
    "    model_base_class.add(Dropout(rate=0.5))\n",
    "    model_base_class.add(Dense(100, activation='relu'))\n",
    "    model_base_class.add(BatchNormalization())\n",
    "    model_base_class.add(Dense(1, activation='sigmoid'))\n",
    "\n",
    "\n",
    "    # DeepKriging NO X model for categorical data\n",
    "    model_nx_class = Sequential()\n",
    "    model_nx_class.add(Dense(100, input_dim = p2, kernel_initializer='he_uniform', activation='relu'))\n",
    "    model_nx_class.add(Dropout(rate=0.5))\n",
    "    model_nx_class.add(BatchNormalization())\n",
    "    model_nx_class.add(Dense(100, activation='relu'))\n",
    "    model_nx_class.add(Dropout(rate=0.5))\n",
    "    model_nx_class.add(BatchNormalization())\n",
    "    model_nx_class.add(Dense(100, activation='relu'))\n",
    "    model_nx_class.add(Dropout(rate=0.5))\n",
    "    model_nx_class.add(BatchNormalization())\n",
    "    model_nx_class.add(Dense(100, activation='relu'))\n",
    "    model_nx_class.add(Dropout(rate=0.5))\n",
    "    model_nx_class.add(BatchNormalization())\n",
    "    model_nx_class.add(Dense(100, activation='relu'))\n",
    "    model_nx_class.add(BatchNormalization())\n",
    "    model_nx_class.add(Dense(1, activation='sigmoid'))\n",
    "\n",
    "    # DK tuned model for categorical data\n",
    "    model_t_class = Sequential()\n",
    "    model_t_class.add(Dense(best_hps.get('layer_1'), input_dim = p, kernel_initializer='he_uniform', activation='relu'))\n",
    "    model_t_class.add(Dropout(rate=0.5))\n",
    "    model_t_class.add(BatchNormalization())\n",
    "    model_t_class.add(Dense(best_hps.get('layer_1'), activation='relu'))\n",
    "    model_t_class.add(Dropout(rate=0.5))\n",
    "    model_t_class.add(Dense(best_hps.get('layer_1'), activation='relu'))\n",
    "    model_t_class.add(BatchNormalization())\n",
    "    model_t_class.add(Dense(1, activation='sigmoid'))\n",
    "\n",
    "    # 히스토리 초기화\n",
    "    history = None\n",
    "    history_deep = None\n",
    "    history_wide = None\n",
    "    history_base = None\n",
    "    history_nx = None\n",
    "    history_t = None\n",
    "\n",
    "    history_class = None\n",
    "    history_deep_class = None\n",
    "    history_wide_class = None\n",
    "    history_base_class = None\n",
    "    history_nx_class = None\n",
    "    history_t_class = None\n",
    "\n",
    "    print(f'Complie and fitting for fold {fold_no} ...')\n",
    "\n",
    "    # DeepKriging과 Baseline DNN을 학습(train set을 이용)하고 출력물들(history)을 저장\n",
    "    ## deep_model() 함수를 이용하여 위에서 정의한 medel들을 complie 및 fitting \n",
    "    \n",
    "    ### Continuous\n",
    "    history = deep_model(model, inputs[train_idx], targets[train_idx,0:1]\\\n",
    "                              , 'continuous')\n",
    "    # history_deep = deep_model(model_deep, inputs[train_idx], targets[train_idx,0:1]\\\n",
    "    #                           , 'continuous')                          \n",
    "    history_wide = deep_model(model_wide, inputs[train_idx], targets[train_idx,0:1]\\\n",
    "                              , 'continuous')\n",
    "    history_base = deep_model(model_base, inputs_base[train_idx], targets[train_idx,0:1]\\\n",
    "                              , 'continuous')\n",
    "    history_nx = deep_model(model_nx, inputs_nx[train_idx], targets[train_idx,0:1]\\\n",
    "                              , 'continuous')\n",
    "    history_t = deep_model(model_t, inputs[train_idx], targets[train_idx,0:1]\\\n",
    "                                , 'continuous')\n",
    "\n",
    "    ### Classification\n",
    "    history_class = deep_model(model_class, inputs[train_idx], targets_class[train_idx,0:1]\\\n",
    "                              , 'discrete')\n",
    "    # history_deep_class = deep_model(model_deep_class, inputs[train_idx], targets_class[train_idx,0:1]\\\n",
    "    #                             , 'discrete')                          \n",
    "    history_wide_class = deep_model(model_wide_class, inputs[train_idx], targets_class[train_idx,0:1]\\\n",
    "                              , 'discrete')\n",
    "    history_base_class = deep_model(model_base_class, inputs_base[train_idx], targets_class[train_idx,0:1]\\\n",
    "                              , 'discrete')\n",
    "    history_nx_class = deep_model(model_nx_class, inputs_nx[train_idx], targets_class[train_idx,0:1]\\\n",
    "                                , 'discrete')\n",
    "    history_t_class = deep_model(model_t_class, inputs[train_idx], targets_class[train_idx,0:1]\\\n",
    "                                , 'discrete')\n",
    "    \n",
    "    # 위의 학습에서 얻은 history를 통해 최적의 epoch를 찾음\n",
    "    ## 여기서 최적의 epoch는 validation loss가 최소가 되는 epoch를 의미\n",
    "    model_optim = optimal_epoch(history)    \n",
    "    # model_optim_deep = optimal_epoch(history_deep) \n",
    "    model_optim_wide = optimal_epoch(history_wide) \n",
    "    model_optim_base = optimal_epoch(history_base)\n",
    "    model_optim_nx = optimal_epoch(history_nx)\n",
    "    model_optim_t = optimal_epoch(history_t)\n",
    "\n",
    "    model_optim_class = optimal_epoch(history_class)\n",
    "    # model_optim_deep_class = optimal_epoch(history_deep_class)\n",
    "    model_optim_wide_class = optimal_epoch(history_wide_class)\n",
    "    model_optim_base_class = optimal_epoch(history_base_class)\n",
    "    model_optim_nx_class = optimal_epoch(history_nx_class)\n",
    "    model_optim_t_class = optimal_epoch(history_t_class)\n",
    "\n",
    "    print(f'Test for fold {fold_no} ...')\n",
    "\n",
    "    # 모형들의 예측결과를 저장(test set을 이용): continuous\n",
    "    ## train set으로 모델을 학습하고 이를 통해 얻은 모델 파라미터로 test set을 예측\n",
    "\n",
    "    result = test_model(model, inputs[train_idx], targets[train_idx,0:1], inputs[test_idx]\\\n",
    "                        , targets[test_idx,0:1], model_optim)\n",
    "    # result_deep = test_model(model_deep, inputs[train_idx], targets[train_idx,0:1], inputs[test_idx]\\\n",
    "    #                     , targets[test_idx,0:1], model_optim_deep)\n",
    "    result_wide = test_model(model_wide, inputs[train_idx], targets[train_idx,0:1], inputs[test_idx]\\\n",
    "                        , targets[test_idx,0:1], model_optim_wide)\n",
    "    result_base = test_model(model_base, inputs_base[train_idx], targets[train_idx,0:1], inputs_base[test_idx]\\\n",
    "                             , targets[test_idx,0:1], model_optim_base)\n",
    "    result_nx = test_model(model_nx, inputs_nx[train_idx], targets[train_idx,0:1], inputs_nx[test_idx]\\\n",
    "                        , targets[test_idx,0:1], model_optim_nx)\n",
    "    result_t = test_model(model_t, inputs[train_idx], targets[train_idx,0:1], inputs[test_idx]\n",
    "                        , targets[test_idx,0:1], model_optim_t)\n",
    "\n",
    "    result_class = test_model(model_class, inputs[train_idx], targets_class[train_idx,0:1], inputs[test_idx]\\\n",
    "                        , targets_class[test_idx,0:1], model_optim_class)\n",
    "    # result_deep_class = test_model(model_deep_class, inputs[train_idx], targets_class[train_idx,0:1], inputs[test_idx]\\\n",
    "    #                     , targets_class[test_idx,0:1], model_optim_deep_class)\n",
    "    result_wide_class = test_model(model_wide_class, inputs[train_idx], targets_class[train_idx,0:1], inputs[test_idx]\\\n",
    "                        , targets_class[test_idx,0:1], model_optim_wide_class)\n",
    "    result_base_class = test_model(model_base_class, inputs_base[train_idx], targets_class[train_idx,0:1], inputs_base[test_idx]\\\n",
    "                             , targets_class[test_idx,0:1], model_optim_base_class)\n",
    "    result_nx_class = test_model(model_nx_class, inputs_nx[train_idx], targets_class[train_idx,0:1], inputs_nx[test_idx]\\\n",
    "                        , targets_class[test_idx,0:1], model_optim_nx_class) \n",
    "    result_t_class = test_model(model_t_class, inputs[train_idx], targets_class[train_idx,0:1], inputs[test_idx]\\\n",
    "                        , targets_class[test_idx,0:1], model_optim_t_class)\n",
    "\n",
    "    ## 결과 저장\n",
    "    scores = result\n",
    "    # scores_deep = result_deep\n",
    "    scores_wide = result_wide\n",
    "    scores_base = result_base\n",
    "    scores_nx = result_nx  \n",
    "    scores_t = result_t\n",
    "\n",
    "    scores_class = result_class\n",
    "    # scores_deep_class = result_deep_class\n",
    "    scores_wide_class = result_wide_class\n",
    "    scores_base_class = result_base_class\n",
    "    scores_nx_class = result_nx_class\n",
    "    scores_t_class = result_t_class\n",
    "\n",
    "    # 결과값들을 리스트에 저장\n",
    "     \n",
    "    acc_per_fold.append(scores_class[1])\n",
    "    # acc_per_fold_deep.append(scores_deep_class[1])\n",
    "    acc_per_fold_wide.append(scores_wide_class[1])\n",
    "    acc_per_fold_base.append(scores_base_class[1])\n",
    "    acc_per_fold_nx.append(scores_nx_class[1])\n",
    "    acc_per_fold_t.append(scores_t_class[1])\n",
    "\n",
    "    mse_per_fold.append(scores[1])\n",
    "    # mse_per_fold_deep.append(scores_deep[1])\n",
    "    mse_per_fold_wide.append(scores_wide[1])\n",
    "    mse_per_fold_base.append(scores_base[1])\n",
    "    mse_per_fold_nx.append(scores_nx[1])\n",
    "    mse_per_fold_t.append(scores_t[1])\n",
    "\n",
    "    mae_per_fold.append(scores[2])\n",
    "    # mae_per_fold_deep.append(scores_deep[2])\n",
    "    mae_per_fold_wide.append(scores_wide[2])\n",
    "    mae_per_fold_base.append(scores_base[2])\n",
    "    mae_per_fold_nx.append(scores_nx[2])\n",
    "    mae_per_fold_t.append(scores_t[2])\n",
    "\n",
    "    fold_no = fold_no + 1 # fold_no 증가\n",
    "    "
   ]
  },
  {
   "cell_type": "code",
   "execution_count": 55,
   "metadata": {},
   "outputs": [
    {
     "data": {
      "text/html": [
       "<div>\n",
       "<style scoped>\n",
       "    .dataframe tbody tr th:only-of-type {\n",
       "        vertical-align: middle;\n",
       "    }\n",
       "\n",
       "    .dataframe tbody tr th {\n",
       "        vertical-align: top;\n",
       "    }\n",
       "\n",
       "    .dataframe thead th {\n",
       "        text-align: right;\n",
       "    }\n",
       "</style>\n",
       "<table border=\"1\" class=\"dataframe\">\n",
       "  <thead>\n",
       "    <tr style=\"text-align: right;\">\n",
       "      <th></th>\n",
       "      <th>Fold</th>\n",
       "      <th>MSE_DK</th>\n",
       "      <th>MSE_Wide</th>\n",
       "      <th>MSE_Baseline_DNN</th>\n",
       "      <th>MSE_DK_NX</th>\n",
       "      <th>MSE_Tuner</th>\n",
       "      <th>MAE_DK</th>\n",
       "      <th>MAE_Wide</th>\n",
       "      <th>MAE_Baseline_DNN</th>\n",
       "      <th>MAE_DK_NX</th>\n",
       "      <th>MAE_Tuner</th>\n",
       "      <th>Accuracy_DK</th>\n",
       "      <th>Accuracy_Wide</th>\n",
       "      <th>Accuracy_Baseline_DNN</th>\n",
       "      <th>Accuracy_DK_NX</th>\n",
       "      <th>Accuracy_Tuner</th>\n",
       "    </tr>\n",
       "  </thead>\n",
       "  <tbody>\n",
       "    <tr>\n",
       "      <th>0</th>\n",
       "      <td>1</td>\n",
       "      <td>9.218047</td>\n",
       "      <td>5.683377</td>\n",
       "      <td>5.240671</td>\n",
       "      <td>6.806675</td>\n",
       "      <td>4.675891</td>\n",
       "      <td>2.244832</td>\n",
       "      <td>1.759755</td>\n",
       "      <td>1.613073</td>\n",
       "      <td>1.905646</td>\n",
       "      <td>1.574282</td>\n",
       "      <td>0.885246</td>\n",
       "      <td>0.885246</td>\n",
       "      <td>0.852459</td>\n",
       "      <td>0.918033</td>\n",
       "      <td>0.885246</td>\n",
       "    </tr>\n",
       "    <tr>\n",
       "      <th>1</th>\n",
       "      <td>2</td>\n",
       "      <td>6.484784</td>\n",
       "      <td>6.625863</td>\n",
       "      <td>4.294733</td>\n",
       "      <td>7.830784</td>\n",
       "      <td>5.601197</td>\n",
       "      <td>1.893728</td>\n",
       "      <td>1.828027</td>\n",
       "      <td>1.518175</td>\n",
       "      <td>2.072249</td>\n",
       "      <td>1.697930</td>\n",
       "      <td>0.819672</td>\n",
       "      <td>0.803279</td>\n",
       "      <td>0.901639</td>\n",
       "      <td>0.786885</td>\n",
       "      <td>0.803279</td>\n",
       "    </tr>\n",
       "    <tr>\n",
       "      <th>2</th>\n",
       "      <td>3</td>\n",
       "      <td>7.070639</td>\n",
       "      <td>4.584480</td>\n",
       "      <td>5.006707</td>\n",
       "      <td>6.584132</td>\n",
       "      <td>4.293457</td>\n",
       "      <td>2.058413</td>\n",
       "      <td>1.591215</td>\n",
       "      <td>1.664910</td>\n",
       "      <td>2.009184</td>\n",
       "      <td>1.524611</td>\n",
       "      <td>0.819672</td>\n",
       "      <td>0.803279</td>\n",
       "      <td>0.819672</td>\n",
       "      <td>0.803279</td>\n",
       "      <td>0.819672</td>\n",
       "    </tr>\n",
       "    <tr>\n",
       "      <th>3</th>\n",
       "      <td>4</td>\n",
       "      <td>5.119351</td>\n",
       "      <td>4.171968</td>\n",
       "      <td>4.029421</td>\n",
       "      <td>5.355499</td>\n",
       "      <td>7.231499</td>\n",
       "      <td>1.844301</td>\n",
       "      <td>1.601015</td>\n",
       "      <td>1.596624</td>\n",
       "      <td>1.882121</td>\n",
       "      <td>2.050879</td>\n",
       "      <td>0.868852</td>\n",
       "      <td>0.852459</td>\n",
       "      <td>0.885246</td>\n",
       "      <td>0.852459</td>\n",
       "      <td>0.868852</td>\n",
       "    </tr>\n",
       "    <tr>\n",
       "      <th>4</th>\n",
       "      <td>5</td>\n",
       "      <td>7.565505</td>\n",
       "      <td>8.971348</td>\n",
       "      <td>4.677346</td>\n",
       "      <td>9.118338</td>\n",
       "      <td>6.924560</td>\n",
       "      <td>2.051658</td>\n",
       "      <td>1.985503</td>\n",
       "      <td>1.652946</td>\n",
       "      <td>2.272744</td>\n",
       "      <td>1.932644</td>\n",
       "      <td>0.852459</td>\n",
       "      <td>0.868852</td>\n",
       "      <td>0.852459</td>\n",
       "      <td>0.885246</td>\n",
       "      <td>0.852459</td>\n",
       "    </tr>\n",
       "    <tr>\n",
       "      <th>5</th>\n",
       "      <td>6</td>\n",
       "      <td>5.446497</td>\n",
       "      <td>4.764014</td>\n",
       "      <td>6.576962</td>\n",
       "      <td>5.898622</td>\n",
       "      <td>6.119485</td>\n",
       "      <td>1.704002</td>\n",
       "      <td>1.696315</td>\n",
       "      <td>1.916655</td>\n",
       "      <td>1.881641</td>\n",
       "      <td>1.830293</td>\n",
       "      <td>0.900000</td>\n",
       "      <td>0.900000</td>\n",
       "      <td>0.866667</td>\n",
       "      <td>0.916667</td>\n",
       "      <td>0.916667</td>\n",
       "    </tr>\n",
       "    <tr>\n",
       "      <th>6</th>\n",
       "      <td>7</td>\n",
       "      <td>9.286472</td>\n",
       "      <td>7.870679</td>\n",
       "      <td>8.593245</td>\n",
       "      <td>8.197147</td>\n",
       "      <td>5.691239</td>\n",
       "      <td>2.175420</td>\n",
       "      <td>1.993923</td>\n",
       "      <td>2.232348</td>\n",
       "      <td>2.079761</td>\n",
       "      <td>1.762939</td>\n",
       "      <td>0.950000</td>\n",
       "      <td>0.950000</td>\n",
       "      <td>0.916667</td>\n",
       "      <td>0.933333</td>\n",
       "      <td>0.933333</td>\n",
       "    </tr>\n",
       "    <tr>\n",
       "      <th>7</th>\n",
       "      <td>8</td>\n",
       "      <td>7.979941</td>\n",
       "      <td>6.096384</td>\n",
       "      <td>8.300336</td>\n",
       "      <td>6.788550</td>\n",
       "      <td>4.754287</td>\n",
       "      <td>2.343476</td>\n",
       "      <td>2.043145</td>\n",
       "      <td>2.144778</td>\n",
       "      <td>2.166267</td>\n",
       "      <td>1.692533</td>\n",
       "      <td>0.883333</td>\n",
       "      <td>0.916667</td>\n",
       "      <td>0.866667</td>\n",
       "      <td>0.866667</td>\n",
       "      <td>0.866667</td>\n",
       "    </tr>\n",
       "    <tr>\n",
       "      <th>8</th>\n",
       "      <td>9</td>\n",
       "      <td>7.765222</td>\n",
       "      <td>8.402188</td>\n",
       "      <td>5.269637</td>\n",
       "      <td>8.217052</td>\n",
       "      <td>4.896788</td>\n",
       "      <td>2.097916</td>\n",
       "      <td>2.158333</td>\n",
       "      <td>1.899078</td>\n",
       "      <td>2.123352</td>\n",
       "      <td>1.676072</td>\n",
       "      <td>0.816667</td>\n",
       "      <td>0.850000</td>\n",
       "      <td>0.866667</td>\n",
       "      <td>0.883333</td>\n",
       "      <td>0.866667</td>\n",
       "    </tr>\n",
       "    <tr>\n",
       "      <th>9</th>\n",
       "      <td>10</td>\n",
       "      <td>11.359794</td>\n",
       "      <td>5.601111</td>\n",
       "      <td>6.211664</td>\n",
       "      <td>7.840937</td>\n",
       "      <td>6.706571</td>\n",
       "      <td>2.700976</td>\n",
       "      <td>1.853059</td>\n",
       "      <td>1.867809</td>\n",
       "      <td>2.240360</td>\n",
       "      <td>1.897089</td>\n",
       "      <td>0.850000</td>\n",
       "      <td>0.833333</td>\n",
       "      <td>0.816667</td>\n",
       "      <td>0.850000</td>\n",
       "      <td>0.850000</td>\n",
       "    </tr>\n",
       "  </tbody>\n",
       "</table>\n",
       "</div>"
      ],
      "text/plain": [
       "   Fold     MSE_DK  MSE_Wide  MSE_Baseline_DNN  MSE_DK_NX  MSE_Tuner  \\\n",
       "0     1   9.218047  5.683377          5.240671   6.806675   4.675891   \n",
       "1     2   6.484784  6.625863          4.294733   7.830784   5.601197   \n",
       "2     3   7.070639  4.584480          5.006707   6.584132   4.293457   \n",
       "3     4   5.119351  4.171968          4.029421   5.355499   7.231499   \n",
       "4     5   7.565505  8.971348          4.677346   9.118338   6.924560   \n",
       "5     6   5.446497  4.764014          6.576962   5.898622   6.119485   \n",
       "6     7   9.286472  7.870679          8.593245   8.197147   5.691239   \n",
       "7     8   7.979941  6.096384          8.300336   6.788550   4.754287   \n",
       "8     9   7.765222  8.402188          5.269637   8.217052   4.896788   \n",
       "9    10  11.359794  5.601111          6.211664   7.840937   6.706571   \n",
       "\n",
       "     MAE_DK  MAE_Wide  MAE_Baseline_DNN  MAE_DK_NX  MAE_Tuner  Accuracy_DK  \\\n",
       "0  2.244832  1.759755          1.613073   1.905646   1.574282     0.885246   \n",
       "1  1.893728  1.828027          1.518175   2.072249   1.697930     0.819672   \n",
       "2  2.058413  1.591215          1.664910   2.009184   1.524611     0.819672   \n",
       "3  1.844301  1.601015          1.596624   1.882121   2.050879     0.868852   \n",
       "4  2.051658  1.985503          1.652946   2.272744   1.932644     0.852459   \n",
       "5  1.704002  1.696315          1.916655   1.881641   1.830293     0.900000   \n",
       "6  2.175420  1.993923          2.232348   2.079761   1.762939     0.950000   \n",
       "7  2.343476  2.043145          2.144778   2.166267   1.692533     0.883333   \n",
       "8  2.097916  2.158333          1.899078   2.123352   1.676072     0.816667   \n",
       "9  2.700976  1.853059          1.867809   2.240360   1.897089     0.850000   \n",
       "\n",
       "   Accuracy_Wide  Accuracy_Baseline_DNN  Accuracy_DK_NX  Accuracy_Tuner  \n",
       "0       0.885246               0.852459        0.918033        0.885246  \n",
       "1       0.803279               0.901639        0.786885        0.803279  \n",
       "2       0.803279               0.819672        0.803279        0.819672  \n",
       "3       0.852459               0.885246        0.852459        0.868852  \n",
       "4       0.868852               0.852459        0.885246        0.852459  \n",
       "5       0.900000               0.866667        0.916667        0.916667  \n",
       "6       0.950000               0.916667        0.933333        0.933333  \n",
       "7       0.916667               0.866667        0.866667        0.866667  \n",
       "8       0.850000               0.866667        0.883333        0.866667  \n",
       "9       0.833333               0.816667        0.850000        0.850000  "
      ]
     },
     "execution_count": 55,
     "metadata": {},
     "output_type": "execute_result"
    }
   ],
   "source": [
    "# 결과값들을 데이터프레임으로 변환\n",
    "cv_result_py = pd.DataFrame({'Fold': np.arange(1, num_folds+1)\n",
    "                            , 'MSE_DK': mse_per_fold\n",
    "                            # / 'MSE_Deep': mse_per_fold_deep\n",
    "                            , 'MSE_Wide': mse_per_fold_wide\n",
    "                            , 'MSE_Baseline_DNN': mse_per_fold_base\n",
    "                            , 'MSE_DK_NX': mse_per_fold_nx\n",
    "                            , 'MSE_Tuner': mse_per_fold_t\n",
    "                            , 'MAE_DK': mae_per_fold\n",
    "                            # , 'MAE_Deep': mae_per_fold_deep\n",
    "                            , 'MAE_Wide': mae_per_fold_wide\n",
    "                            , 'MAE_Baseline_DNN': mae_per_fold_base\n",
    "                            , 'MAE_DK_NX': mae_per_fold_nx\n",
    "                            , 'MAE_Tuner': mae_per_fold_t\n",
    "                            , 'Accuracy_DK': acc_per_fold\n",
    "                            # , 'Accuracy_Deep': acc_per_fold_deep\n",
    "                            , 'Accuracy_Wide': acc_per_fold_wide\n",
    "                            , 'Accuracy_Baseline_DNN': acc_per_fold_base\n",
    "                            , 'Accuracy_DK_NX': acc_per_fold_nx\n",
    "                            , 'Accuracy_Tuner': acc_per_fold_t})\n",
    "\n",
    "cv_result_py"
   ]
  },
  {
   "cell_type": "code",
   "execution_count": 57,
   "metadata": {},
   "outputs": [
    {
     "name": "stdout",
     "output_type": "stream",
     "text": [
      "[MSE]---------------------------------------------------------------------------------\n",
      "Mean of MSE\n",
      "MSE_DK              7.729625\n",
      "MSE_Wide            6.277141\n",
      "MSE_Baseline_DNN    5.820072\n",
      "MSE_DK_NX           7.263774\n",
      "MSE_Tuner           5.689497\n",
      "dtype: float64\n",
      "Std of MSE\n",
      "MSE_DK              1.883208\n",
      "MSE_Wide            1.662134\n",
      "MSE_Baseline_DNN    1.588416\n",
      "MSE_DK_NX           1.167894\n",
      "MSE_Tuner           1.033312\n",
      "dtype: float64\n"
     ]
    }
   ],
   "source": [
    "# cv결과 요약\n",
    "print('[MSE]---------------------------------------------------------------------------------')\n",
    "print('Mean of MSE')\n",
    "print(cv_result_py[['MSE_DK','MSE_Wide','MSE_Baseline_DNN','MSE_DK_NX','MSE_Tuner']].mean())\n",
    "print('Std of MSE')\n",
    "print(cv_result_py[['MSE_DK','MSE_Wide','MSE_Baseline_DNN','MSE_DK_NX','MSE_Tuner']].std())"
   ]
  },
  {
   "cell_type": "code",
   "execution_count": 58,
   "metadata": {},
   "outputs": [
    {
     "name": "stdout",
     "output_type": "stream",
     "text": [
      "[MAE]---------------------------------------------------------------------------------\n",
      "Mean of MAE\n",
      "MAE_DK              2.111472\n",
      "MAE_Wide            1.851029\n",
      "MAE_Baseline_DNN    1.810640\n",
      "MAE_DK_NX           2.063332\n",
      "MAE_Tuner           1.763927\n",
      "dtype: float64\n",
      "Std of MAE\n",
      "MAE_DK              0.281783\n",
      "MAE_Wide            0.192255\n",
      "MAE_Baseline_DNN    0.242279\n",
      "MAE_DK_NX           0.142745\n",
      "MAE_Tuner           0.164436\n",
      "dtype: float64\n"
     ]
    }
   ],
   "source": [
    "print('[MAE]---------------------------------------------------------------------------------')\n",
    "print('Mean of MAE')\n",
    "print(cv_result_py[['MAE_DK','MAE_Wide','MAE_Baseline_DNN','MAE_DK_NX','MAE_Tuner']].mean())\n",
    "print('Std of MAE')\n",
    "print(cv_result_py[['MAE_DK','MAE_Wide','MAE_Baseline_DNN','MAE_DK_NX','MAE_Tuner']].std())"
   ]
  },
  {
   "cell_type": "code",
   "execution_count": 59,
   "metadata": {},
   "outputs": [
    {
     "name": "stdout",
     "output_type": "stream",
     "text": [
      "[Accuracy]---------------------------------------------------------------------------------\n",
      "Mean of Accuracy\n",
      "Accuracy_DK              0.864590\n",
      "Accuracy_Wide            0.866311\n",
      "Accuracy_Baseline_DNN    0.864481\n",
      "Accuracy_DK_NX           0.869590\n",
      "Accuracy_Tuner           0.866284\n",
      "dtype: float64\n",
      "Std of Accuracy\n",
      "Accuracy_DK              0.042212\n",
      "Accuracy_Wide            0.047762\n",
      "Accuracy_Baseline_DNN    0.031855\n",
      "Accuracy_DK_NX           0.048285\n",
      "Accuracy_Tuner           0.039439\n",
      "dtype: float64\n"
     ]
    }
   ],
   "source": [
    "print('[Accuracy]---------------------------------------------------------------------------------')\n",
    "print('Mean of Accuracy')\n",
    "print(cv_result_py[['Accuracy_DK','Accuracy_Wide','Accuracy_Baseline_DNN','Accuracy_DK_NX','Accuracy_Tuner']].mean())\n",
    "print('Std of Accuracy')\n",
    "print(cv_result_py[['Accuracy_DK','Accuracy_Wide','Accuracy_Baseline_DNN','Accuracy_DK_NX','Accuracy_Tuner']].std())"
   ]
  },
  {
   "cell_type": "markdown",
   "metadata": {},
   "source": [
    "## R에서 Kriging CV를 위해 인덱스 추출"
   ]
  },
  {
   "cell_type": "code",
   "execution_count": 60,
   "metadata": {},
   "outputs": [],
   "source": [
    "## Save the same test index for Kriging: 저자는 R로 크리깅을 수행한것으로 보입니다.\n",
    "train_idx_combine = []\n",
    "test_idx_combine = []\n",
    "for train_idx, test_idx in kfold.split(inputs, targets):\n",
    "    train_idx_combine.append(train_idx)\n",
    "    test_idx_combine.append(test_idx)  \n",
    "test_df = pd.DataFrame(test_idx_combine).T\n",
    "test_df.to_csv('./test_idx.csv')"
   ]
  },
  {
   "cell_type": "code",
   "execution_count": 61,
   "metadata": {},
   "outputs": [],
   "source": [
    "# 각 폴드별 validation set의 pm25와 pm25_class 값을 저장\n",
    "cv_pm25 = []\n",
    "cv_pm25_class = []\n",
    "for i in range(10):\n",
    "    cv_pm25.append(z[test_idx_combine[i], 0])\n",
    "    cv_pm25_class.append(z_class[test_idx_combine[i],0])    \n",
    "\n",
    "cv_pm25_df = pd.DataFrame(cv_pm25).T\n",
    "cv_pm25_df.to_csv('./cv_pm25.csv')\n",
    "cv_pm25_class_df = pd.DataFrame(cv_pm25_class).T\n",
    "cv_pm25_class_df.to_csv('./cv_pm25_class.csv')\n"
   ]
  },
  {
   "cell_type": "markdown",
   "metadata": {},
   "source": [
    "## CV 결과 외부 저장"
   ]
  },
  {
   "cell_type": "code",
   "execution_count": 62,
   "metadata": {},
   "outputs": [],
   "source": [
    "# 위에서 병합한 데이터프레임을 csv로 저장\n",
    "cv_result_py.to_csv('./DeepKriging_CV_all.csv')"
   ]
  },
  {
   "cell_type": "markdown",
   "metadata": {},
   "source": [
    "# Prediction\n",
    "\n",
    "앞에서 구성한 모형들을 이용하여, 미관측 기상학 자료 관측소에 대한 $PM_{2.5}$ 농도에 대한 예측을 진행한다. 먼저, 모형의 학습과 예측을 위해 변수들을 정리한다."
   ]
  },
  {
   "cell_type": "code",
   "execution_count": 63,
   "metadata": {},
   "outputs": [],
   "source": [
    "# DeepKriging fitting을 위한 입력변수 정규화\n",
    "inputs = np.hstack((normalized_X, phi_obs)) \n",
    "    # 매칭 후 기상학 데이터와 이를 기반으로한 embedding layer를 입력변수로 지정\n",
    "\n",
    "inputs_base = np.hstack((normalized_X, s_obs)) \n",
    "    # 매칭 후 기상학 데이터와 좌표를 입력변수로 지정\n",
    "\n",
    "s_norm = np.vstack((normalized_lon, normalized_lat)).T\n",
    "\n",
    "# DeepKriging Prediction을 위한 입력변수 정규화\n",
    "X_pred = covariates\n",
    "\n",
    "normalized_X_pred = X_pred\n",
    "\n",
    "for i in range(X_pred.shape[1]):\n",
    "    normalized_X_pred[:,i] = (X_pred[:,i]-min(X_pred[:,i]))/(max(X_pred[:,i])-min(X_pred[:,i]))\n",
    "\n",
    "## Recall phi_reduce는 zero column을 제거한 전체 데이터의 basis function 값 \n",
    "X_RBF_pred = np.hstack((normalized_X_pred, phi_reduce))\n",
    "\n",
    "inputs_base_pred = np.hstack((normalized_X_pred, s_norm))\n",
    "\n",
    "# 설명변수 설정\n",
    "targets = z\n",
    "targets_class = z_class\n"
   ]
  },
  {
   "cell_type": "markdown",
   "metadata": {},
   "source": [
    "## Deep Kriging"
   ]
  },
  {
   "cell_type": "code",
   "execution_count": 64,
   "metadata": {},
   "outputs": [
    {
     "name": "stdout",
     "output_type": "stream",
     "text": [
      "\u001b[1m20/20\u001b[0m \u001b[32m━━━━━━━━━━━━━━━━━━━━\u001b[0m\u001b[37m\u001b[0m \u001b[1m0s\u001b[0m 5ms/step\n",
      "38.7971 sec\n"
     ]
    }
   ],
   "source": [
    "start = time.time()\n",
    "\n",
    "# DeepKriging model 적합: 배치 사이즈와 에포크는 기본값으로 수행\n",
    "history_p = deep_model(model, inputs, targets[:,0:1],'continuous')\n",
    "\n",
    "# 최적의 epoch 찾기\n",
    "model_optim_p = optimal_epoch(history_p)\n",
    "\n",
    "# DeepKriging의 예측값 계산\n",
    "PM25_pred = model.predict(X_RBF_pred, batch_size=model_optim_p)\n",
    "    # 매칭 전 모든 기상데이터 관측점에 대한 PM2.5 예측값 계산\n",
    "\n",
    "print(f\"{time.time()-start:.4f} sec\") # 종료와 함께 수행시간 출력"
   ]
  },
  {
   "cell_type": "markdown",
   "metadata": {},
   "source": [
    "## Deeper DeepKriging"
   ]
  },
  {
   "cell_type": "code",
   "execution_count": 65,
   "metadata": {},
   "outputs": [
    {
     "name": "stdout",
     "output_type": "stream",
     "text": [
      "\u001b[1m22/22\u001b[0m \u001b[32m━━━━━━━━━━━━━━━━━━━━\u001b[0m\u001b[37m\u001b[0m \u001b[1m0s\u001b[0m 7ms/step\n",
      "40.6917 sec\n"
     ]
    }
   ],
   "source": [
    "start = time.time()\n",
    "\n",
    "history_p_deep = deep_model(model_deep, inputs, targets[:,0:1],'continuous')\n",
    "\n",
    "model_optim_p_deep = optimal_epoch(history_p_deep)\n",
    "\n",
    "PM25_pred_deep = model_deep.predict(X_RBF_pred, batch_size=model_optim_p_deep)\n",
    "\n",
    "print(f\"{time.time()-start:.4f} sec\") # 종료와 함께 수행시간 출력"
   ]
  },
  {
   "cell_type": "markdown",
   "metadata": {},
   "source": [
    "## Wider DeepKringing"
   ]
  },
  {
   "cell_type": "code",
   "execution_count": 66,
   "metadata": {},
   "outputs": [
    {
     "name": "stdout",
     "output_type": "stream",
     "text": [
      "\u001b[1m7706/7706\u001b[0m \u001b[32m━━━━━━━━━━━━━━━━━━━━\u001b[0m\u001b[37m\u001b[0m \u001b[1m5s\u001b[0m 598us/step\n",
      "47.3932 sec\n"
     ]
    }
   ],
   "source": [
    "start = time.time()\n",
    "\n",
    "history_p_wide = deep_model(model_wide, inputs, targets[:,0:1],'continuous')\n",
    "\n",
    "model_optim_p_wide = optimal_epoch(history_p_wide)\n",
    "\n",
    "PM25_pred_wide = model_wide.predict(X_RBF_pred, batch_size=model_optim_p_wide)\n",
    "\n",
    "print(f\"{time.time()-start:.4f} sec\") # 종료와 함께 수행시간 출력"
   ]
  },
  {
   "cell_type": "markdown",
   "metadata": {},
   "source": [
    "## Baseline DNN"
   ]
  },
  {
   "cell_type": "code",
   "execution_count": 67,
   "metadata": {},
   "outputs": [
    {
     "name": "stdout",
     "output_type": "stream",
     "text": [
      "\u001b[1m7706/7706\u001b[0m \u001b[32m━━━━━━━━━━━━━━━━━━━━\u001b[0m\u001b[37m\u001b[0m \u001b[1m4s\u001b[0m 510us/step\n",
      "40.6751 sec\n"
     ]
    }
   ],
   "source": [
    "start = time.time()\n",
    "\n",
    "history_p_base = deep_model(model_base, inputs_base, targets[:,0:1],'continuous')\n",
    "\n",
    "model_optim_p_base = optimal_epoch(history_p_base)\n",
    "\n",
    "PM25_pred_base = model_base.predict(inputs_base_pred, batch_size=model_optim_p_base)\n",
    "\n",
    "print(f\"{time.time()-start:.4f} sec\") # 종료와 함께 수행시간 출력"
   ]
  },
  {
   "cell_type": "markdown",
   "metadata": {},
   "source": [
    "## DeepKriging NO X"
   ]
  },
  {
   "cell_type": "code",
   "execution_count": 68,
   "metadata": {},
   "outputs": [
    {
     "name": "stdout",
     "output_type": "stream",
     "text": [
      "\u001b[1m155/155\u001b[0m \u001b[32m━━━━━━━━━━━━━━━━━━━━\u001b[0m\u001b[37m\u001b[0m \u001b[1m0s\u001b[0m 1ms/step\n",
      "37.7681 sec\n"
     ]
    }
   ],
   "source": [
    "start = time.time()\n",
    "\n",
    "history_p_nx = deep_model(model_nx, phi_obs, targets[:,0:1],'continuous')\n",
    "\n",
    "model_optim_p_nx = optimal_epoch(history_p_nx)\n",
    "\n",
    "PM25_pred_nx = model_nx.predict(phi_reduce, batch_size=model_optim_p_nx)\n",
    "\n",
    "print(f\"{time.time()-start:.4f} sec\") # 종료와 함께 수행시간 출력"
   ]
  },
  {
   "cell_type": "markdown",
   "metadata": {},
   "source": [
    "## Tuned DK"
   ]
  },
  {
   "cell_type": "code",
   "execution_count": 69,
   "metadata": {},
   "outputs": [
    {
     "name": "stdout",
     "output_type": "stream",
     "text": [
      "\u001b[1m2569/2569\u001b[0m \u001b[32m━━━━━━━━━━━━━━━━━━━━\u001b[0m\u001b[37m\u001b[0m \u001b[1m2s\u001b[0m 738us/step\n",
      "45.2756 sec\n"
     ]
    }
   ],
   "source": [
    "start = time.time()\n",
    "\n",
    "history_p_t = deep_model(model_t, inputs, targets[:,0:1],'continuous')\n",
    "\n",
    "model_optim_p_t = optimal_epoch(history_p_t)\n",
    "\n",
    "PM25_pred_t = model_t.predict(X_RBF_pred, batch_size=model_optim_p_t)\n",
    "\n",
    "print(f\"{time.time()-start:.4f} sec\") # 종료와 함께 수행시간 출력"
   ]
  },
  {
   "cell_type": "markdown",
   "metadata": {},
   "source": [
    "# Classification"
   ]
  },
  {
   "cell_type": "markdown",
   "metadata": {},
   "source": [
    "## DeepKriging"
   ]
  },
  {
   "cell_type": "code",
   "execution_count": 70,
   "metadata": {},
   "outputs": [
    {
     "name": "stdout",
     "output_type": "stream",
     "text": [
      "\u001b[1m7706/7706\u001b[0m \u001b[32m━━━━━━━━━━━━━━━━━━━━\u001b[0m\u001b[37m\u001b[0m \u001b[1m5s\u001b[0m 584us/step\n",
      "43.1234 sec\n"
     ]
    }
   ],
   "source": [
    "start = time.time()\n",
    "\n",
    "history_p_class = deep_model(model_class, inputs, targets_class[:,0:1],'discrete')\n",
    "\n",
    "model_optim_p_class = optimal_epoch(history_p_class)\n",
    "\n",
    "PM25_pred_class = model_class.predict(X_RBF_pred, batch_size=model_optim_p_class)\n",
    "\n",
    "print(f\"{time.time()-start:.4f} sec\") # 종료와 함께 수행시간 출력"
   ]
  },
  {
   "cell_type": "markdown",
   "metadata": {},
   "source": [
    "## Deeper DeepKriging"
   ]
  },
  {
   "cell_type": "code",
   "execution_count": 71,
   "metadata": {},
   "outputs": [
    {
     "name": "stdout",
     "output_type": "stream",
     "text": [
      "\u001b[1m158/158\u001b[0m \u001b[32m━━━━━━━━━━━━━━━━━━━━\u001b[0m\u001b[37m\u001b[0m \u001b[1m0s\u001b[0m 1ms/step\n",
      "39.2983 sec\n"
     ]
    }
   ],
   "source": [
    "start = time.time()\n",
    "\n",
    "history_p_deep_class = deep_model(model_deep_class, inputs, targets_class[:,0:1],'discrete')\n",
    "\n",
    "model_optim_p_deep_class = optimal_epoch(history_p_deep_class)\n",
    "\n",
    "PM25_pred_deep_class = model_deep_class.predict(X_RBF_pred, batch_size=model_optim_p_deep_class)\n",
    "\n",
    "print(f\"{time.time()-start:.4f} sec\") # 종료와 함께 수행시간 출력"
   ]
  },
  {
   "cell_type": "markdown",
   "metadata": {},
   "source": [
    "\n",
    "## Wider DeepKringing"
   ]
  },
  {
   "cell_type": "code",
   "execution_count": 72,
   "metadata": {},
   "outputs": [
    {
     "name": "stdout",
     "output_type": "stream",
     "text": [
      "\u001b[1m7706/7706\u001b[0m \u001b[32m━━━━━━━━━━━━━━━━━━━━\u001b[0m\u001b[37m\u001b[0m \u001b[1m5s\u001b[0m 596us/step\n",
      "46.4040 sec\n"
     ]
    }
   ],
   "source": [
    "start = time.time()\n",
    "\n",
    "history_p_wide_class = deep_model(model_wide_class, inputs, targets_class[:,0:1], 'discrete')\n",
    "\n",
    "model_optim_p_wide_class = optimal_epoch(history_p_wide_class)\n",
    "\n",
    "PM25_pred_wide_class = model_wide_class.predict(X_RBF_pred, batch_size=model_optim_p_wide_class)\n",
    "\n",
    "print(f\"{time.time()-start:.4f} sec\") # 종료와 함께 수행시간 출력"
   ]
  },
  {
   "cell_type": "markdown",
   "metadata": {},
   "source": [
    "## Baseline DNN"
   ]
  },
  {
   "cell_type": "code",
   "execution_count": 73,
   "metadata": {},
   "outputs": [
    {
     "name": "stdout",
     "output_type": "stream",
     "text": [
      "\u001b[1m3853/3853\u001b[0m \u001b[32m━━━━━━━━━━━━━━━━━━━━\u001b[0m\u001b[37m\u001b[0m \u001b[1m2s\u001b[0m 514us/step\n",
      "37.3332 sec\n"
     ]
    }
   ],
   "source": [
    "start = time.time()\n",
    "\n",
    "history_p_base_class = deep_model(model_base_class, inputs_base, targets_class[:,0:1],'discrete')\n",
    "\n",
    "model_optim_p_base_class = optimal_epoch(history_p_base_class)\n",
    "\n",
    "PM25_pred_base_class = model_base_class.predict(inputs_base_pred, batch_size=model_optim_p_base_class)\n",
    "\n",
    "print(f\"{time.time()-start:.4f} sec\") # 종료와 함께 수행시간 출력"
   ]
  },
  {
   "cell_type": "markdown",
   "metadata": {},
   "source": [
    "## DeepKriging NO X"
   ]
  },
  {
   "cell_type": "code",
   "execution_count": 74,
   "metadata": {},
   "outputs": [
    {
     "name": "stdout",
     "output_type": "stream",
     "text": [
      "\u001b[1m7706/7706\u001b[0m \u001b[32m━━━━━━━━━━━━━━━━━━━━\u001b[0m\u001b[37m\u001b[0m \u001b[1m5s\u001b[0m 657us/step\n",
      "47.2524 sec\n"
     ]
    }
   ],
   "source": [
    "start = time.time()\n",
    "\n",
    "history_p_nx_class = deep_model(model_nx_class, phi_obs, targets_class[:,0:1], 'discrete')\n",
    "\n",
    "model_optim_p_nx_class = optimal_epoch(history_p_nx_class)\n",
    "\n",
    "PM25_pred_nx_class = model_nx_class.predict(phi_reduce, batch_size=model_optim_p_nx_class)\n",
    "\n",
    "print(f\"{time.time()-start:.4f} sec\") # 종료와 함께 수행시간 출력"
   ]
  },
  {
   "cell_type": "markdown",
   "metadata": {},
   "source": [
    "## Tuned DK"
   ]
  },
  {
   "cell_type": "code",
   "execution_count": 75,
   "metadata": {},
   "outputs": [
    {
     "name": "stdout",
     "output_type": "stream",
     "text": [
      "\u001b[1m7706/7706\u001b[0m \u001b[32m━━━━━━━━━━━━━━━━━━━━\u001b[0m\u001b[37m\u001b[0m \u001b[1m5s\u001b[0m 579us/step\n",
      "42.8796 sec\n"
     ]
    }
   ],
   "source": [
    "start = time.time()\n",
    "\n",
    "history_p_t_class = deep_model(model_t_class, inputs, targets_class[:,0:1],'discrete')\n",
    "\n",
    "model_optim_p_t_class = optimal_epoch(history_p_t_class)\n",
    "\n",
    "PM25_pred_t_class = model_t_class.predict(X_RBF_pred, batch_size=model_optim_p_t_class)\n",
    "\n",
    "print(f\"{time.time()-start:.4f} sec\") # 종료와 함께 수행시간 출력"
   ]
  },
  {
   "cell_type": "markdown",
   "metadata": {},
   "source": [
    "# Store the predicted values"
   ]
  },
  {
   "cell_type": "code",
   "execution_count": 76,
   "metadata": {},
   "outputs": [],
   "source": [
    "s = np.vstack((lon, lat)).T\n",
    "\n",
    "## 예측값 저장\n",
    "PM25_pred_combine = np.concatenate((s, normalized_X_pred, PM25_pred), axis=1) # DeepKriging 예측값 저장\n",
    "\n",
    "PM25_pred_deep_combine = np.concatenate((s, normalized_X_pred, PM25_pred_deep), axis=1) # DeepKriging with deeper hidden layers 예측값 저장\n",
    "\n",
    "PM25_pred_wide_combine = np.concatenate((s, normalized_X_pred, PM25_pred_wide), axis=1) # DeepKriging with wider hidden nodes 예측값 저장\n",
    "\n",
    "PM25_pred_base_combine = np.concatenate((s, normalized_X_pred, PM25_pred_base), axis=1) # Baseline DNN 예측값 저장\n",
    "\n",
    "PM25_pred_nx_combine = np.concatenate((s, PM25_pred_nx), axis=1) # DeepKriging without X 예측값 저장\n",
    "\n",
    "PM25_pred_t_combine = np.concatenate((s, normalized_X_pred, PM25_pred_t), axis=1) # Tuner DNN 예측값 저장\n",
    "\n",
    "## Calssification 예측값 저장\n",
    "PM25_pred_class_combine = np.concatenate((s, normalized_X_pred, PM25_pred_class), axis=1) # DeepKriging class 예측값 저장\n",
    "\n",
    "PM25_pred_deep_class_combine = np.concatenate((s, normalized_X_pred, PM25_pred_deep_class), axis=1) # DeepKriging with deeper hidden layers class 예측값 저장\n",
    "\n",
    "PM25_pred_wide_class_combine = np.concatenate((s, normalized_X_pred, PM25_pred_wide_class), axis=1) # DeepKriging with wider hidden nodes class 예측값 저장\n",
    "\n",
    "PM25_pred_base_class_combine = np.concatenate((s, normalized_X_pred, PM25_pred_base_class), axis=1) # Baseline DNN class 예측값 저장\n",
    "\n",
    "PM25_pred_nx_class_combine = np.concatenate((s, PM25_pred_nx_class), axis=1) # DeepKriging without X class 예측값 저장\n",
    "\n",
    "PM25_pred_t_class_combine = np.concatenate((s, normalized_X_pred, PM25_pred_t_class), axis=1) # Tuner DNN class 예측값 저장\n"
   ]
  },
  {
   "cell_type": "markdown",
   "metadata": {},
   "source": [
    "## 예측값들 외부로 저장"
   ]
  },
  {
   "cell_type": "code",
   "execution_count": 77,
   "metadata": {},
   "outputs": [],
   "source": [
    "# DeepKriging: 입력변수 및 좌표 정규화\n",
    "s_norm = np.vstack((normalized_lon, normalized_lat)).T\n",
    "\n",
    "PM25_pred_combine_norm = np.concatenate((s_norm, normalized_X_pred, PM25_pred), axis=1)\n",
    "\n",
    "PM25_pred_df=pd.DataFrame(PM25_pred_combine_norm)\n",
    "PM25_pred_df.to_csv('.\\PM25_pred_0605.csv')\n",
    "\n",
    "PM25_risk_df=pd.DataFrame(PM25_pred_class_combine)\n",
    "PM25_risk_df.to_csv('.\\PM25_pred_risk_0605.csv')\n",
    "\n",
    "# DeeperKriging: 입력변수 및 좌표 정규화\n",
    "PM25_pred_deep_combine_norm = np.concatenate((s_norm, normalized_X_pred, PM25_pred_deep), axis=1)\n",
    "\n",
    "PM25_pred_deep_df=pd.DataFrame(PM25_pred_deep_combine_norm)\n",
    "PM25_pred_deep_df.to_csv('.\\PM25_pred_deep_0605.csv')\n",
    "\n",
    "PM25_risk_deep_df=pd.DataFrame(PM25_pred_deep_class_combine)\n",
    "PM25_risk_deep_df.to_csv('.\\PM25_pred_risk_deep_0605.csv')\n",
    "\n",
    "# WiderKriging: 입력변수 및 좌표 정규화\n",
    "PM25_pred_wide_combine_norm = np.concatenate((s_norm, normalized_X_pred, PM25_pred_wide), axis=1)\n",
    "\n",
    "PM25_pred_wide_df=pd.DataFrame(PM25_pred_wide_combine_norm)\n",
    "PM25_pred_wide_df.to_csv('.\\PM25_pred_wide_0605.csv')\n",
    "\n",
    "PM25_risk_wide_df=pd.DataFrame(PM25_pred_wide_class_combine)\n",
    "PM25_risk_wide_df.to_csv('.\\PM25_pred_risk_wide_0605.csv')\n",
    "\n",
    "# Baseline DNN: 입력변수 및 좌표 정규화\n",
    "PM25_pred_base_combine_norm = np.concatenate((s_norm, normalized_X_pred, PM25_pred_base), axis=1)\n",
    "\n",
    "PM25_pred_base_df=pd.DataFrame(PM25_pred_base_combine_norm)\n",
    "PM25_pred_base_df.to_csv('.\\PM25_pred_base_0605.csv')\n",
    "\n",
    "PM25_risk_base_df=pd.DataFrame(PM25_pred_base_class_combine)\n",
    "PM25_risk_base_df.to_csv('.\\PM25_pred_risk_base_0605.csv')\n",
    "\n",
    "# DeepKriging without X: 입력변수 및 좌표 정규화\n",
    "PM25_pred_nx_combine_norm = np.concatenate((s_norm, PM25_pred_nx), axis=1)\n",
    "\n",
    "PM25_pred_nx_df=pd.DataFrame(PM25_pred_nx_combine_norm)\n",
    "PM25_pred_nx_df.to_csv('.\\PM25_pred_nx_0605.csv')\n",
    "\n",
    "PM25_risk_nx_df=pd.DataFrame(PM25_pred_nx_class_combine)\n",
    "PM25_risk_nx_df.to_csv('.\\PM25_pred_risk_nx_0605.csv')\n",
    "\n",
    "# Tuner DNN: 입력변수 및 좌표 정규화\n",
    "PM25_pred_t_combine_norm = np.concatenate((s_norm, normalized_X_pred, PM25_pred_t), axis=1)\n",
    "\n",
    "PM25_pred_t_df=pd.DataFrame(PM25_pred_t_combine_norm)\n",
    "PM25_pred_t_df.to_csv('.\\PM25_pred_t_0605.csv')\n",
    "\n",
    "PM25_risk_t_df=pd.DataFrame(PM25_pred_t_class_combine)\n",
    "PM25_risk_t_df.to_csv('.\\PM25_pred_risk_t_0605.csv')"
   ]
  },
  {
   "cell_type": "markdown",
   "metadata": {},
   "source": [
    "# 예측값 시각화"
   ]
  },
  {
   "cell_type": "code",
   "execution_count": 78,
   "metadata": {},
   "outputs": [
    {
     "data": {
      "text/html": [
       "<div>\n",
       "<style scoped>\n",
       "    .dataframe tbody tr th:only-of-type {\n",
       "        vertical-align: middle;\n",
       "    }\n",
       "\n",
       "    .dataframe tbody tr th {\n",
       "        vertical-align: top;\n",
       "    }\n",
       "\n",
       "    .dataframe thead th {\n",
       "        text-align: right;\n",
       "    }\n",
       "</style>\n",
       "<table border=\"1\" class=\"dataframe\">\n",
       "  <thead>\n",
       "    <tr style=\"text-align: right;\">\n",
       "      <th></th>\n",
       "      <th>Unnamed: 0</th>\n",
       "      <th>Longitude</th>\n",
       "      <th>Latitude</th>\n",
       "      <th>PM25</th>\n",
       "      <th>PM_class</th>\n",
       "    </tr>\n",
       "  </thead>\n",
       "  <tbody>\n",
       "    <tr>\n",
       "      <th>0</th>\n",
       "      <td>1</td>\n",
       "      <td>-80.482778</td>\n",
       "      <td>25.471944</td>\n",
       "      <td>4.4</td>\n",
       "      <td>1</td>\n",
       "    </tr>\n",
       "  </tbody>\n",
       "</table>\n",
       "</div>"
      ],
      "text/plain": [
       "   Unnamed: 0  Longitude   Latitude  PM25  PM_class\n",
       "0           1 -80.482778  25.471944   4.4         1"
      ]
     },
     "execution_count": 78,
     "metadata": {},
     "output_type": "execute_result"
    }
   ],
   "source": [
    "df2.head(1)"
   ]
  },
  {
   "cell_type": "code",
   "execution_count": 90,
   "metadata": {},
   "outputs": [
    {
     "data": {
      "image/png": "[encoded data removed]",
      "text/plain": [
       "<Figure size 720x576 with 16 Axes>"
      ]
     },
     "metadata": {
      "needs_background": "light"
     },
     "output_type": "display_data"
    }
   ],
   "source": [
    "# 관측값과 예측값의 최소값과 최대값을 계산\n",
    "vmin = 0\n",
    "vmax = max(df2['PM25'].max(), PM25_pred.max(), PM25_pred_deep.max(), PM25_pred_base.max(), PM25_pred_nx.max(), PM25_pred_t.max())\n",
    "s=5\n",
    "cmap = 'jet'\n",
    "\n",
    "fig, axs = plt.subplots(3, 3, figsize=(10,8))\n",
    "\n",
    "# 원자료 시각화\n",
    "sc1 = axs[0, 0].scatter(df2.values[:,1], df2.values[:,2], c=df2.values[:,3], s=s, cmap=cmap, vmin=vmin, vmax=vmax ) \n",
    "axs[0, 0].set_title('Original PM2.5 data')\n",
    "axs[0, 0].set_xlabel('')\n",
    "axs[0, 0].set_ylabel('')\n",
    "fig.colorbar(sc1, ax=axs[0, 0])\n",
    "\n",
    "# PM2.5 예측값 시각화\n",
    "sc2 = axs[1, 0].scatter(PM25_pred_combine[:,0], PM25_pred_combine[:,1], c=PM25_pred_combine[:,8], s=s, cmap=cmap, vmin=vmin, vmax=vmax) \n",
    "axs[1, 0].set_title('Predicted PM2.5(DeepKriging)')\n",
    "axs[1, 0].set_xlabel('')\n",
    "axs[1, 0].set_ylabel('')\n",
    "fig.colorbar(sc2, ax=axs[1, 0])\n",
    "\n",
    "# 더 넓은 모형 시각화\n",
    "sc3 = axs[0, 1].scatter(PM25_pred_wide_combine[:,0], PM25_pred_wide_combine[:,1], c=PM25_pred_wide_combine[:,8], s=s, cmap=cmap, vmin=vmin, vmax=vmax) \n",
    "axs[0, 1].set_title('Predicted PM2.5 (wide)')\n",
    "axs[0, 1].set_xlabel('')\n",
    "axs[0, 1].set_ylabel('')\n",
    "fig.colorbar(sc3, ax=axs[0, 1])\n",
    "    \n",
    "# 더 깊은 모형 시각화\n",
    "sc4 = axs[1, 1].scatter(PM25_pred_deep_combine[:,0], PM25_pred_deep_combine[:,1], c=PM25_pred_deep_combine[:,8], s=s, cmap=cmap, vmin=vmin, vmax=vmax) \n",
    "axs[1, 1].set_title('Predicted PM2.5 (deep)')\n",
    "axs[1, 1].set_xlabel('')\n",
    "axs[1, 1].set_ylabel('')\n",
    "fig.colorbar(sc4, ax=axs[1, 1])\n",
    "\n",
    "# Baseline DNN 시각화\n",
    "sc5 = axs[0, 2].scatter(PM25_pred_base_combine[:,0], PM25_pred_base_combine[:,1], c=PM25_pred_base_combine[:,8], s=s, cmap=cmap, vmin=vmin, vmax=vmax)\n",
    "axs[0, 2].set_title('Predicted PM2.5 (baseline DNN)')\n",
    "axs[0, 2].set_xlabel('')\n",
    "axs[0, 2].set_ylabel('')\n",
    "fig.colorbar(sc5, ax=axs[0, 2])\n",
    "\n",
    "# Baseline DNN No X 시각화\n",
    "sc6 = axs[1, 2].scatter(PM25_pred_nx_combine[:,0], PM25_pred_nx_combine[:,1], c=PM25_pred_nx_combine[:,2], s=s, cmap=cmap, vmin=vmin, vmax=vmax)\n",
    "axs[1, 2].set_title('Predicted PM2.5 (DK no X)')\n",
    "axs[1, 2].set_xlabel('')\n",
    "axs[1, 2].set_ylabel('')\n",
    "fig.colorbar(sc6, ax=axs[1, 2])\n",
    "\n",
    "# Tuner DNN 시각화\n",
    "sc7 = axs[2, 0].scatter(PM25_pred_t_combine[:,0], PM25_pred_t_combine[:,1], c=PM25_pred_t_combine[:,8], s=s, cmap=cmap, vmin=vmin, vmax=vmax)\n",
    "axs[2, 0].set_title('Predicted PM2.5 (DK tune)')\n",
    "axs[2, 0].set_xlabel('')\n",
    "axs[2, 0].set_ylabel('')\n",
    "fig.colorbar(sc7, ax=axs[2, 0])\n",
    "\n",
    "# 남은 곳 공백으로 설정\n",
    "axs[2, 1].axis('off')\n",
    "axs[2, 2].axis('off')\n",
    "\n",
    "plt.tight_layout()\n",
    "plt.show()\n",
    "\n",
    "# 그림 외부로 저장\n",
    "fig.savefig('./PM25_pred_Deep.png')"
   ]
  },
  {
   "cell_type": "code",
   "execution_count": 88,
   "metadata": {},
   "outputs": [
    {
     "data": {
      "image/png": "[encoded data removed]",
      "text/plain": [
       "<Figure size 720x576 with 16 Axes>"
      ]
     },
     "metadata": {
      "needs_background": "light"
     },
     "output_type": "display_data"
    }
   ],
   "source": [
    "# Classification 결과 시각화\n",
    "cmap = 'jet'\n",
    "fig, axs = plt.subplots(3, 3, figsize=(10,8))\n",
    "\n",
    "# PM2.5 class 관측값 시각화\n",
    "scp1 = axs[0, 0].scatter(df2.values[:,1], df2.values[:,2], c=df2.values[:,4]-1, s=s, cmap=cmap, vmin=0, vmax=1)\n",
    "        # c=df2.values[:,4]-1를 해준 이유는 PM2.5 class가 1부터 시작하기 때문에 1을 빼줌\n",
    "axs[0, 0].set_title('Original PM2.5 high risk indicator')\n",
    "axs[0, 0].set_xlabel('')\n",
    "axs[0, 0].set_ylabel('')\n",
    "fig.colorbar(scp1, ax=axs[0, 0])\n",
    "\n",
    "# high PM2.5 risk 예측값 시각화\n",
    "scp2 = axs[1, 0].scatter(PM25_pred_class_combine[:,0], PM25_pred_class_combine[:,1], c=PM25_pred_class_combine[:,8], s=s,cmap=cmap, vmin=0, vmax=1)\n",
    "axs[1, 0].set_title('Predicted PM2.5 high risk(DeepKriging)')\n",
    "axs[1, 0].set_xlabel('')\n",
    "axs[1, 0].set_ylabel('')\n",
    "fig.colorbar(scp2, ax=axs[1, 0])\n",
    "\n",
    "# DeepKriging with wider hidden nodes class 예측값 시각화\n",
    "scp3 = axs[0, 1].scatter(PM25_pred_wide_class_combine[:,0], PM25_pred_wide_class_combine[:,1], c=PM25_pred_wide_class_combine[:,8], s=s, cmap=cmap, vmin=0, vmax=1)\n",
    "axs[0, 1].set_title('Predicted PM2.5 high risk (wide)')\n",
    "axs[0, 1].set_xlabel('')\n",
    "axs[1, 1].set_ylabel('')\n",
    "fig.colorbar(scp3, ax=axs[0, 1])\n",
    "\n",
    "# DeepKriging with deeper hidden layers class 예측값 시각화\n",
    "scp4 = axs[1, 1].scatter(PM25_pred_deep_class_combine[:,0], PM25_pred_deep_class_combine[:,1], c=PM25_pred_deep_class_combine[:,8], s=s, cmap=cmap, vmin=0, vmax=1)\n",
    "axs[1, 1].set_title('Predicted PM2.5 high risk (deep)')\n",
    "axs[1, 1].set_xlabel('')\n",
    "axs[1, 1].set_ylabel('')\n",
    "fig.colorbar(scp4, ax=axs[1, 1])\n",
    "\n",
    "# Baseline DNN class 예측값 시각화\n",
    "scp5 = axs[0, 2].scatter(PM25_pred_base_class_combine[:,0], PM25_pred_base_class_combine[:,1], c=PM25_pred_base_class_combine[:,8], s=s, cmap=cmap, vmin=0, vmax=1)\n",
    "axs[0, 2].set_title('Predicted PM2.5 high risk (baseline DNN)')\n",
    "axs[0, 2].set_xlabel('')\n",
    "axs[0, 2].set_ylabel('')\n",
    "fig.colorbar(scp5, ax=axs[0, 2])\n",
    "\n",
    "# Baseline DNN No X class 예측값 시각화\n",
    "scp6 = axs[1, 2].scatter(PM25_pred_nx_class_combine[:,0], PM25_pred_nx_class_combine[:,1], c=PM25_pred_nx_class_combine[:,2], s=s, cmap=cmap, vmin=0, vmax=1)\n",
    "axs[1, 2].set_title('Predicted PM2.5 high risk (DK no X)')\n",
    "axs[1, 2].set_xlabel('')\n",
    "axs[1, 2].set_ylabel('')\n",
    "fig.colorbar(scp6, ax=axs[1, 2])\n",
    "\n",
    "# Tuner DNN class 예측값 시각화\n",
    "scp7 = axs[2, 0].scatter(PM25_pred_t_class_combine[:,0], PM25_pred_t_class_combine[:,1], c=PM25_pred_t_class_combine[:,8], s=s, cmap=cmap, vmin=0, vmax=1)\n",
    "axs[2, 0].set_title('Predicted PM2.5 high risk (DK tune)')\n",
    "axs[2, 0].set_xlabel('')\n",
    "axs[2, 0].set_ylabel('')\n",
    "fig.colorbar(scp7, ax=axs[2, 0])\n",
    "\n",
    "# 남은 곳 공백으로 설정\n",
    "axs[2, 1].axis('off')\n",
    "axs[2, 2].axis('off')\n",
    "\n",
    "plt.tight_layout()\n",
    "plt.show()\n",
    "\n",
    "# 그림 외부로 저장\n",
    "fig.savefig('./PM25_pred_risk_Deep.png')"
   ]
  },
  {
   "cell_type": "markdown",
   "metadata": {},
   "source": [
    "### Risk"
   ]
  },
  {
   "cell_type": "code",
   "execution_count": 81,
   "metadata": {},
   "outputs": [],
   "source": [
    "# import sys\n",
    "# sys.path.append('../')\n",
    "# from dcdr.deep_hist import Binning_CDF\n",
    "# from scipy.stats import iqr\n",
    "# %matplotlib inline\n",
    "# %config InlineBackend.figure_format = 'svg'\n",
    "# import matplotlib;matplotlib.rcParams['figure.figsize'] = (8,6)\n",
    "# init_seed=1\n",
    "# num_cut = int((max(z)-min(z))*N**(1/3)/(2*iqr(z)))\n",
    "# hidden_list = [100,100,100]\n",
    "# dropout_list = [0.5,0.5,0.5]\n",
    "# histogram_bin = 'random'\n",
    "# loss_model = 'multi-binary'\n",
    "# seeding = 1"
   ]
  },
  {
   "cell_type": "code",
   "execution_count": 82,
   "metadata": {},
   "outputs": [],
   "source": [
    "# import tensorflow as tf\n",
    "\n",
    "# # GPU 설정\n",
    "# gpus = tf.config.experimental.list_physical_devices('GPU')\n",
    "# if gpus:\n",
    "#     try:\n",
    "#         # 첫 번째 GPU만 사용하도록 설정\n",
    "#         tf.config.experimental.set_visible_devices(gpus[0], 'GPU')\n",
    "        \n",
    "#         # GPU 메모리 할당을 동적으로 조정\n",
    "#         tf.config.experimental.set_memory_growth(gpus[0], True)\n",
    "#     except RuntimeError as e:\n",
    "#         print(e)"
   ]
  },
  {
   "cell_type": "code",
   "execution_count": 83,
   "metadata": {},
   "outputs": [],
   "source": [
    "# dcdr_model = Binning_CDF(num_cut=num_cut, hidden_list=hidden_list,\n",
    "#                          histogram_bin=histogram_bin, dropout_list=dropout_list,\n",
    "#                          seeding=seeding, loss_model=loss_model, \n",
    "#                          niter=10)\n",
    "    \n",
    "# dcdr_model.fit_cdf(inputs, targets, batch_size=32, merge_empty_bin=True)"
   ]
  },
  {
   "cell_type": "code",
   "execution_count": 84,
   "metadata": {},
   "outputs": [],
   "source": [
    "# risk = dcdr_model.predict_cdf(X_RBF_pred,pred_lim=[12,12],ngrid=1)"
   ]
  },
  {
   "cell_type": "code",
   "execution_count": 85,
   "metadata": {},
   "outputs": [],
   "source": [
    "# riskdf=pd.DataFrame(risk)\n",
    "# riskdf.to_csv('./risk_pred.csv')"
   ]
  },
  {
   "cell_type": "code",
   "execution_count": null,
   "metadata": {},
   "outputs": [],
   "source": []
  }
 ],
 "metadata": {
  "kernelspec": {
   "display_name": "Python 3",
   "language": "python",
   "name": "python3"
  },
  "language_info": {
   "codemirror_mode": {
    "name": "ipython",
    "version": 3
   },
   "file_extension": ".py",
   "mimetype": "text/x-python",
   "name": "python",
   "nbconvert_exporter": "python",
   "pygments_lexer": "ipython3",
   "version": "3.10.0"
  }
 },
 "nbformat": 4,
 "nbformat_minor": 2
}
